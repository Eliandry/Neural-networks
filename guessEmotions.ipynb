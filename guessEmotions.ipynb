{
  "nbformat": 4,
  "nbformat_minor": 0,
  "metadata": {
    "colab": {
      "name": "guessEmotions.ipynb",
      "provenance": [],
      "include_colab_link": true
    },
    "kernelspec": {
      "name": "python3",
      "display_name": "Python 3"
    },
    "language_info": {
      "name": "python"
    }
  },
  "cells": [
    {
      "cell_type": "markdown",
      "metadata": {
        "id": "view-in-github",
        "colab_type": "text"
      },
      "source": [
        "<a href=\"https://colab.research.google.com/github/Eliandry/Neural-networks/blob/main/guessEmotions.ipynb\" target=\"_parent\"><img src=\"https://colab.research.google.com/assets/colab-badge.svg\" alt=\"Open In Colab\"/></a>"
      ]
    },
    {
      "cell_type": "code",
      "metadata": {
        "id": "m5M8czyH6njL"
      },
      "source": [
        "from keras.models import Sequential\n",
        "import numpy as np\n",
        "from tensorflow import keras\n",
        "import matplotlib.pyplot as plt\n",
        "from tensorflow.keras.layers import Dense, Flatten, Dropout, Conv2D, GlobalAveragePooling2D,MaxPooling2D,BatchNormalization\n",
        "from google.colab import files\n",
        "from PIL import Image\n",
        "from tensorflow.keras.utils import to_categorical\n",
        "import tensorflow as tf\n",
        "from keras.optimizers import Adam\n",
        "from sklearn.model_selection import train_test_split\n",
        "from keras.regularizers import l2\n",
        "from keras.losses import categorical_crossentropy\n",
        "from keras.applications import vgg19\n",
        "from sklearn.utils import shuffle\n",
        "import cv2\n",
        "import pandas as pd\n",
        "import warnings\n",
        "from keras.initializers import  RandomNormal\n",
        "from keras.preprocessing.image import ImageDataGenerator\n",
        "from keras.callbacks import ModelCheckpoint, TensorBoard"
      ],
      "execution_count": 16,
      "outputs": []
    },
    {
      "cell_type": "code",
      "metadata": {
        "id": "WJfJ5LIh66PG"
      },
      "source": [
        "warnings.filterwarnings(\"ignore\")\n",
        "\n",
        "data = pd.read_csv('./fer2013.csv')\n",
        "width, height = 48, 48\n",
        "datapoints = data['pixels'].tolist()\n",
        "\n",
        "    # получаем все свойства для дальнейшего обучения\n",
        "X = []\n",
        "for xseq in datapoints:\n",
        "    xx = [int(xp) for xp in xseq.split(' ')]\n",
        "    xx = np.asarray(xx).reshape(width, height)\n",
        "    X.append(xx.astype('float32'))\n",
        "\n",
        "X = np.asarray(X)\n",
        "X = np.expand_dims(X, -1)\n",
        "\n",
        "    # получем лэйблы для обучения\n",
        "y = pd.get_dummies(data['emotion']).values"
      ],
      "execution_count": 17,
      "outputs": []
    },
    {
      "cell_type": "code",
      "metadata": {
        "id": "G4F6MTl9z1w6"
      },
      "source": [
        "X -= np.mean(X, axis=0)\n",
        "X /= np.std(X, axis=0)\n",
        "X_train, X_test, y_train, y_test = train_test_split(X, y, test_size=0.7, random_state=42)\n",
        "X_train, X_val, y_train, y_val = train_test_split(X_train, y_train, test_size=0.7, random_state=41)"
      ],
      "execution_count": 18,
      "outputs": []
    },
    {
      "cell_type": "code",
      "metadata": {
        "id": "DjGblr937lWT"
      },
      "source": [
        "num_features = 64\n",
        "num_labels = 7\n",
        "batch_size = 64\n",
        "epochs = 20\n",
        "width, height = 48, 48"
      ],
      "execution_count": 20,
      "outputs": []
    },
    {
      "cell_type": "code",
      "metadata": {
        "id": "ECbjNtyedLXL"
      },
      "source": [
        "model = Sequential()\n",
        "\n",
        "\n",
        "model.add(Conv2D(64, (3, 3), activation='relu', padding = 'same', input_shape=(48,48,1), bias_initializer=RandomNormal(stddev=1), kernel_initializer=RandomNormal(stddev=1)))\n",
        "model.add(Conv2D(64, (3, 3), activation='relu', padding = 'same', input_shape=(48,48,1), bias_initializer=RandomNormal(stddev=1), kernel_initializer=RandomNormal(stddev=1)))\n",
        "model.add(BatchNormalization())\n",
        "model.add(MaxPooling2D(pool_size=(3,3), strides=(2, 2)))\n",
        "model.add(Dropout(0.25))\n",
        "\n",
        "# 3rd \n",
        "model.add(Conv2D(64, (3, 3), activation='relu', padding = 'same', bias_initializer=RandomNormal(stddev=1), kernel_initializer=RandomNormal(stddev=1)))\n",
        "model.add(Conv2D(64, (3, 3), activation='relu', padding = 'same', bias_initializer=RandomNormal(stddev=1), kernel_initializer=RandomNormal(stddev=1)))\n",
        "model.add(BatchNormalization())\n",
        "model.add(MaxPooling2D(pool_size=(3,3), strides=(2, 2)))\n",
        "model.add(Dropout(0.25))\n",
        "          \n",
        "# 5th \n",
        "model.add(Conv2D(128, (3, 3), activation='relu', padding = 'same', bias_initializer=RandomNormal(stddev=1), kernel_initializer=RandomNormal(stddev=1)))\n",
        "model.add(Conv2D(128, (3, 3), activation='relu', padding = 'same', bias_initializer=RandomNormal(stddev=1), kernel_initializer=RandomNormal(stddev=1)))\n",
        "model.add(BatchNormalization())\n",
        "model.add(MaxPooling2D(pool_size=(3,3), strides=(2, 2)))\n",
        "model.add(Dropout(0.25))\n",
        "\n",
        "# 7th \n",
        "model.add(Conv2D(256, (3, 3), activation='relu', padding = 'same', bias_initializer=RandomNormal(stddev=1), kernel_initializer=RandomNormal(stddev=1)))\n",
        "model.add(Conv2D(256, (3, 3), activation='relu', padding = 'same', bias_initializer=RandomNormal(stddev=1), kernel_initializer=RandomNormal(stddev=1)))\n",
        "model.add(BatchNormalization())\n",
        "model.add(MaxPooling2D(pool_size=(3,3), strides=(2, 2)))\n",
        "model.add(Dropout(0.1))\n",
        "\n",
        "\n",
        "model.add(Flatten())\n",
        "\n",
        "model.add(Dense(2048, activation='relu'))\n",
        "model.add(Dropout(0.1))\n",
        "model.add(Dense(7, activation='softmax'))"
      ],
      "execution_count": 21,
      "outputs": []
    },
    {
      "cell_type": "code",
      "metadata": {
        "id": "tGuruxlCeNQU"
      },
      "source": [
        "model.compile(loss=categorical_crossentropy,\n",
        "              optimizer=Adam(lr=0.001, beta_1=0.9, beta_2=0.999, epsilon=1e-7),\n",
        "              metrics=['accuracy'])"
      ],
      "execution_count": 22,
      "outputs": []
    },
    {
      "cell_type": "markdown",
      "metadata": {
        "id": "aBpUTfATq-mJ"
      },
      "source": [
        ""
      ]
    },
    {
      "cell_type": "code",
      "metadata": {
        "colab": {
          "base_uri": "https://localhost:8080/"
        },
        "id": "Ast-X2b4xoKU",
        "outputId": "31915a1a-7a35-4ca9-ef5c-2fb9508ed004"
      },
      "source": [
        "model.fit(np.array(X_train), np.array(y_train),\n",
        "          batch_size=64,\n",
        "          epochs=30,\n",
        "          verbose=1,\n",
        "          validation_data=(np.array(X_val), np.array(y_val)),\n",
        "          shuffle=True)"
      ],
      "execution_count": 24,
      "outputs": [
        {
          "output_type": "stream",
          "text": [
            "Epoch 1/30\n",
            "51/51 [==============================] - 152s 3s/step - loss: 2.8575 - accuracy: 0.2103 - val_loss: 2.1753 - val_accuracy: 0.1957\n",
            "Epoch 2/30\n",
            "51/51 [==============================] - 150s 3s/step - loss: 1.8141 - accuracy: 0.2577 - val_loss: 1.8218 - val_accuracy: 0.2180\n",
            "Epoch 3/30\n",
            "51/51 [==============================] - 150s 3s/step - loss: 1.7856 - accuracy: 0.2598 - val_loss: 1.7991 - val_accuracy: 0.2586\n",
            "Epoch 4/30\n",
            "51/51 [==============================] - 149s 3s/step - loss: 1.7800 - accuracy: 0.2601 - val_loss: 1.8273 - val_accuracy: 0.2619\n",
            "Epoch 5/30\n",
            "51/51 [==============================] - 149s 3s/step - loss: 1.7566 - accuracy: 0.2614 - val_loss: 1.9258 - val_accuracy: 0.2624\n",
            "Epoch 6/30\n",
            "51/51 [==============================] - 150s 3s/step - loss: 1.7541 - accuracy: 0.2735 - val_loss: 1.9948 - val_accuracy: 0.2693\n",
            "Epoch 7/30\n",
            "51/51 [==============================] - 150s 3s/step - loss: 1.7449 - accuracy: 0.2790 - val_loss: 2.0329 - val_accuracy: 0.2562\n",
            "Epoch 8/30\n",
            "51/51 [==============================] - 150s 3s/step - loss: 1.7393 - accuracy: 0.2865 - val_loss: 1.9354 - val_accuracy: 0.2753\n",
            "Epoch 9/30\n",
            "51/51 [==============================] - 152s 3s/step - loss: 1.7264 - accuracy: 0.2865 - val_loss: 2.0373 - val_accuracy: 0.2662\n",
            "Epoch 10/30\n",
            "51/51 [==============================] - 150s 3s/step - loss: 1.7109 - accuracy: 0.3060 - val_loss: 2.1098 - val_accuracy: 0.2780\n",
            "Epoch 11/30\n",
            "51/51 [==============================] - 150s 3s/step - loss: 1.7037 - accuracy: 0.3041 - val_loss: 2.1224 - val_accuracy: 0.2983\n",
            "Epoch 12/30\n",
            "51/51 [==============================] - 150s 3s/step - loss: 1.6971 - accuracy: 0.3091 - val_loss: 2.0905 - val_accuracy: 0.2926\n",
            "Epoch 13/30\n",
            "51/51 [==============================] - 150s 3s/step - loss: 1.6777 - accuracy: 0.3246 - val_loss: 2.1613 - val_accuracy: 0.3007\n",
            "Epoch 14/30\n",
            "51/51 [==============================] - 150s 3s/step - loss: 1.6619 - accuracy: 0.3280 - val_loss: 2.0485 - val_accuracy: 0.3102\n",
            "Epoch 15/30\n",
            "51/51 [==============================] - 150s 3s/step - loss: 1.6236 - accuracy: 0.3583 - val_loss: 2.0825 - val_accuracy: 0.3137\n",
            "Epoch 16/30\n",
            "51/51 [==============================] - 151s 3s/step - loss: 1.6243 - accuracy: 0.3534 - val_loss: 2.0569 - val_accuracy: 0.3091\n",
            "Epoch 17/30\n",
            "51/51 [==============================] - 152s 3s/step - loss: 1.6078 - accuracy: 0.3577 - val_loss: 2.1145 - val_accuracy: 0.3207\n",
            "Epoch 18/30\n",
            "51/51 [==============================] - 152s 3s/step - loss: 1.5853 - accuracy: 0.3760 - val_loss: 2.0311 - val_accuracy: 0.3310\n",
            "Epoch 19/30\n",
            "51/51 [==============================] - 152s 3s/step - loss: 1.5772 - accuracy: 0.3788 - val_loss: 2.2767 - val_accuracy: 0.3308\n",
            "Epoch 20/30\n",
            "51/51 [==============================] - 151s 3s/step - loss: 1.5420 - accuracy: 0.3992 - val_loss: 2.0495 - val_accuracy: 0.3374\n",
            "Epoch 21/30\n",
            "51/51 [==============================] - 152s 3s/step - loss: 1.5337 - accuracy: 0.4029 - val_loss: 1.9056 - val_accuracy: 0.3560\n",
            "Epoch 22/30\n",
            "51/51 [==============================] - 151s 3s/step - loss: 1.5173 - accuracy: 0.4014 - val_loss: 2.0446 - val_accuracy: 0.3442\n",
            "Epoch 23/30\n",
            "51/51 [==============================] - 152s 3s/step - loss: 1.4999 - accuracy: 0.4240 - val_loss: 2.1563 - val_accuracy: 0.3499\n",
            "Epoch 24/30\n",
            "51/51 [==============================] - 152s 3s/step - loss: 1.4784 - accuracy: 0.4203 - val_loss: 2.0818 - val_accuracy: 0.3459\n",
            "Epoch 25/30\n",
            "51/51 [==============================] - 149s 3s/step - loss: 1.4796 - accuracy: 0.4175 - val_loss: 2.0486 - val_accuracy: 0.3598\n",
            "Epoch 26/30\n",
            "51/51 [==============================] - 149s 3s/step - loss: 1.4600 - accuracy: 0.4283 - val_loss: 2.2033 - val_accuracy: 0.3491\n",
            "Epoch 27/30\n",
            "51/51 [==============================] - 150s 3s/step - loss: 1.4537 - accuracy: 0.4274 - val_loss: 2.1784 - val_accuracy: 0.3661\n",
            "Epoch 28/30\n",
            "51/51 [==============================] - 153s 3s/step - loss: 1.4361 - accuracy: 0.4367 - val_loss: 2.0807 - val_accuracy: 0.3609\n",
            "Epoch 29/30\n",
            "51/51 [==============================] - 153s 3s/step - loss: 1.4188 - accuracy: 0.4463 - val_loss: 2.0285 - val_accuracy: 0.3694\n",
            "Epoch 30/30\n",
            "51/51 [==============================] - 152s 3s/step - loss: 1.4035 - accuracy: 0.4534 - val_loss: 2.2294 - val_accuracy: 0.3657\n"
          ],
          "name": "stdout"
        },
        {
          "output_type": "execute_result",
          "data": {
            "text/plain": [
              "<keras.callbacks.History at 0x7f592eee3c90>"
            ]
          },
          "metadata": {
            "tags": []
          },
          "execution_count": 24
        }
      ]
    },
    {
      "cell_type": "code",
      "metadata": {
        "colab": {
          "base_uri": "https://localhost:8080/"
        },
        "id": "F-fb7Sm5hjsW",
        "outputId": "6414c79c-f5d3-455f-bf71-d948a08331c3"
      },
      "source": [
        "imgs = Image.open(f'/content/2.jpg').convert('L')\n",
        "imgs=np.array(imgs)\n",
        "imgs=vgg19.preprocess_input(np.expand_dims(imgs,axis=0))\n",
        "imgs.shape=(imgs.shape[0],48,48,1)\n",
        "print(imgs.shape)\n",
        "model.predict(imgs)"
      ],
      "execution_count": 28,
      "outputs": [
        {
          "output_type": "stream",
          "text": [
            "(1, 48, 48, 1)\n"
          ],
          "name": "stdout"
        },
        {
          "output_type": "execute_result",
          "data": {
            "text/plain": [
              "array([[9.9999464e-01, 7.5959491e-26, 4.7445587e-06, 6.0346304e-07,\n",
              "        7.9840167e-28, 3.0806468e-30, 5.0739136e-17]], dtype=float32)"
            ]
          },
          "metadata": {
            "tags": []
          },
          "execution_count": 28
        }
      ]
    }
  ]
}