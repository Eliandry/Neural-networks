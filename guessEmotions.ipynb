{
  "nbformat": 4,
  "nbformat_minor": 0,
  "metadata": {
    "colab": {
      "name": "guessEmotions.ipynb",
      "provenance": [],
      "include_colab_link": true
    },
    "kernelspec": {
      "name": "python3",
      "display_name": "Python 3"
    },
    "language_info": {
      "name": "python"
    }
  },
  "cells": [
    {
      "cell_type": "markdown",
      "metadata": {
        "id": "view-in-github",
        "colab_type": "text"
      },
      "source": [
        "<a href=\"https://colab.research.google.com/github/Eliandry/Neural-networks/blob/main/guessEmotions.ipynb\" target=\"_parent\"><img src=\"https://colab.research.google.com/assets/colab-badge.svg\" alt=\"Open In Colab\"/></a>"
      ]
    },
    {
      "cell_type": "code",
      "metadata": {
        "id": "m5M8czyH6njL"
      },
      "source": [
        "from keras.models import Sequential\n",
        "import numpy as np\n",
        "from tensorflow import keras\n",
        "import matplotlib.pyplot as plt\n",
        "from tensorflow.keras.layers import Dense, Flatten, Dropout, Conv2D, GlobalAveragePooling2D,MaxPooling2D,BatchNormalization\n",
        "from google.colab import files\n",
        "from PIL import Image\n",
        "from tensorflow.keras.utils import to_categorical\n",
        "import tensorflow as tf\n",
        "from keras.optimizers import Adam\n",
        "from sklearn.model_selection import train_test_split\n",
        "from keras.regularizers import l2\n",
        "from keras.losses import categorical_crossentropy\n",
        "from keras.applications import vgg19\n",
        "from sklearn.utils import shuffle\n",
        "import cv2\n",
        "import pandas as pd\n",
        "import warnings\n",
        "from keras.initializers import  RandomNormal\n",
        "from keras.preprocessing.image import ImageDataGenerator\n",
        "from keras.callbacks import ModelCheckpoint, TensorBoard"
      ],
      "execution_count": 29,
      "outputs": []
    },
    {
      "cell_type": "code",
      "metadata": {
        "id": "WJfJ5LIh66PG"
      },
      "source": [
        "warnings.filterwarnings(\"ignore\")\n",
        "\n",
        "data = pd.read_csv('./fer2013.csv')\n",
        "width, height = 48, 48\n",
        "datapoints = data['pixels'].tolist()\n",
        "\n",
        "    # получаем все свойства для дальнейшего обучения\n",
        "X = []\n",
        "for xseq in datapoints:\n",
        "    xx = [int(xp) for xp in xseq.split(' ')]\n",
        "    xx = np.asarray(xx).reshape(width, height)\n",
        "    X.append(xx.astype('float32'))\n",
        "\n",
        "X = np.asarray(X)\n",
        "X = np.expand_dims(X, -1)\n",
        "\n",
        "    # получем лэйблы для обучения\n",
        "y = pd.get_dummies(data['emotion']).values"
      ],
      "execution_count": 53,
      "outputs": []
    },
    {
      "cell_type": "code",
      "metadata": {
        "id": "G4F6MTl9z1w6"
      },
      "source": [
        "X -= np.mean(X, axis=0)\n",
        "X /= np.std(X, axis=0)\n",
        "X_train, X_test, y_train, y_test = train_test_split(X, y, test_size=0.7, random_state=42)\n",
        "X_train, X_val, y_train, y_val = train_test_split(X_train, y_train, test_size=0.7, random_state=41)"
      ],
      "execution_count": 54,
      "outputs": []
    },
    {
      "cell_type": "code",
      "metadata": {
        "id": "Llgzncsgz_AV"
      },
      "source": [
        ""
      ],
      "execution_count": null,
      "outputs": []
    },
    {
      "cell_type": "code",
      "metadata": {
        "colab": {
          "base_uri": "https://localhost:8080/",
          "height": 197
        },
        "id": "dPy5h_gTfI2s",
        "outputId": "79f632af-0c31-411b-f98c-ef88ebdc7bfd"
      },
      "source": [
        "def show_random(imgs, emotion_nms_org = None, emotion_nms_pred = None, random = True, indices = None):\n",
        "    if random == True:\n",
        "        indices = np.random.randint(0, len(imgs), size = 5)\n",
        "    else:\n",
        "        indices = np.random.choice(list(indices), size = 5, replace = False)\n",
        "    plt.figure(figsize=(20, 14)) \n",
        "    for index, number in enumerate(indices):\n",
        "        plt.subplot(3,5, index + 1)\n",
        "        if (isinstance(emotion_nms_org, type(None)) & isinstance(emotion_nms_pred, type(None))):\n",
        "            plt.title('Image: ' + str(indices[index]))           \n",
        "        elif (isinstance(emotion_nms_org, type(None)) & ~isinstance(emotion_nms_pred, type(None))):\n",
        "            plt.title('Image: ' + str(indices[index]) + '\\n' + 'Predicted emotion:' + emotion_nms_pred[indices[index]])\n",
        "        elif (~isinstance(emotion_nms_org, type(None)) & isinstance(emotion_nms_pred, type(None))):\n",
        "             plt.title('Image: ' + str(indices[index]) + '\\n' + 'Original emotion: ' + emotion_nms_org[indices[index]])           \n",
        "        else:\n",
        "            plt.title('Image: ' + str(indices[index]) + '\\n' + 'Original emotion: ' + emotion_nms_org[indices[index]] + \n",
        "                      '\\n' + 'Predicted emotion:' + emotion_nms_pred[indices[index]])\n",
        "        show_image = imgs[number].reshape(48,48)\n",
        "        plt.axis('off')\n",
        "        plt.imshow(show_image, cmap='gray')\n",
        "        \n",
        "\n",
        "show_random(images, emotion_nms_org= data['emotion_name'])"
      ],
      "execution_count": 42,
      "outputs": [
        {
          "output_type": "display_data",
          "data": {
            "image/png": "[encoded data removed]",
            "text/plain": [
              "<Figure size 1440x1008 with 5 Axes>"
            ]
          },
          "metadata": {
            "tags": [],
            "needs_background": "light"
          }
        }
      ]
    },
    {
      "cell_type": "code",
      "metadata": {
        "id": "dJq7DmQaJjXQ"
      },
      "source": [
        "images = images.reshape(images.shape[0], 48, 48, 1)\n",
        "images = images.astype('float32')\n",
        "\n",
        "X_train, X_test, y_train, y_test = train_test_split(images, labels, test_size=0.1, shuffle = False)\n",
        "X_train, X_val, y_train, y_val = train_test_split(X_train, y_train, test_size=0.1, shuffle = False)"
      ],
      "execution_count": 43,
      "outputs": []
    },
    {
      "cell_type": "code",
      "metadata": {
        "id": "DjGblr937lWT"
      },
      "source": [
        "num_features = 64\n",
        "num_labels = 7\n",
        "batch_size = 64\n",
        "epochs = 20\n",
        "width, height = 48, 48"
      ],
      "execution_count": 58,
      "outputs": []
    },
    {
      "cell_type": "code",
      "metadata": {
        "id": "ECbjNtyedLXL"
      },
      "source": [
        "model = Sequential()\n",
        "\n",
        "\n",
        "model.add(Conv2D(64, (3, 3), activation='relu', padding = 'same', input_shape=(48,48,1), bias_initializer=RandomNormal(stddev=1), kernel_initializer=RandomNormal(stddev=1)))\n",
        "model.add(Conv2D(64, (3, 3), activation='relu', padding = 'same', input_shape=(48,48,1), bias_initializer=RandomNormal(stddev=1), kernel_initializer=RandomNormal(stddev=1)))\n",
        "model.add(BatchNormalization())\n",
        "model.add(MaxPooling2D(pool_size=(3,3), strides=(2, 2)))\n",
        "model.add(Dropout(0.25))\n",
        "\n",
        "# 3rd convolution layer\n",
        "model.add(Conv2D(64, (3, 3), activation='relu', padding = 'same', bias_initializer=RandomNormal(stddev=1), kernel_initializer=RandomNormal(stddev=1)))\n",
        "model.add(Conv2D(64, (3, 3), activation='relu', padding = 'same', bias_initializer=RandomNormal(stddev=1), kernel_initializer=RandomNormal(stddev=1)))\n",
        "model.add(BatchNormalization())\n",
        "model.add(MaxPooling2D(pool_size=(3,3), strides=(2, 2)))\n",
        "model.add(Dropout(0.25))\n",
        "          \n",
        "# 5th convolution layer\n",
        "model.add(Conv2D(128, (3, 3), activation='relu', padding = 'same', bias_initializer=RandomNormal(stddev=1), kernel_initializer=RandomNormal(stddev=1)))\n",
        "model.add(Conv2D(128, (3, 3), activation='relu', padding = 'same', bias_initializer=RandomNormal(stddev=1), kernel_initializer=RandomNormal(stddev=1)))\n",
        "model.add(BatchNormalization())\n",
        "model.add(MaxPooling2D(pool_size=(3,3), strides=(2, 2)))\n",
        "model.add(Dropout(0.25))\n",
        "\n",
        "# 7th convolution layer\n",
        "model.add(Conv2D(256, (3, 3), activation='relu', padding = 'same', bias_initializer=RandomNormal(stddev=1), kernel_initializer=RandomNormal(stddev=1)))\n",
        "model.add(Conv2D(256, (3, 3), activation='relu', padding = 'same', bias_initializer=RandomNormal(stddev=1), kernel_initializer=RandomNormal(stddev=1)))\n",
        "model.add(BatchNormalization())\n",
        "model.add(MaxPooling2D(pool_size=(3,3), strides=(2, 2)))\n",
        "model.add(Dropout(0.1))\n",
        "\n",
        "\n",
        "model.add(Flatten())\n",
        "# Fully connected layers\n",
        "model.add(Dense(2048, activation='relu'))\n",
        "model.add(Dropout(0.1))\n",
        "model.add(Dense(7, activation='softmax'))"
      ],
      "execution_count": 55,
      "outputs": []
    },
    {
      "cell_type": "code",
      "metadata": {
        "id": "tGuruxlCeNQU"
      },
      "source": [
        "model.compile(loss=categorical_crossentropy,\n",
        "              optimizer=Adam(lr=0.001, beta_1=0.9, beta_2=0.999, epsilon=1e-7),\n",
        "              metrics=['accuracy'])"
      ],
      "execution_count": 56,
      "outputs": []
    },
    {
      "cell_type": "markdown",
      "metadata": {
        "id": "aBpUTfATq-mJ"
      },
      "source": [
        ""
      ]
    },
    {
      "cell_type": "code",
      "metadata": {
        "colab": {
          "base_uri": "https://localhost:8080/"
        },
        "id": "Ast-X2b4xoKU",
        "outputId": "1f4ab552-414f-4b3c-b701-4bc55d93bbc6"
      },
      "source": [
        "model.fit(np.array(X_train), np.array(y_train),\n",
        "          batch_size=64,\n",
        "          epochs=3,\n",
        "          verbose=1,\n",
        "          validation_data=(np.array(X_val), np.array(y_val)),\n",
        "          shuffle=True)"
      ],
      "execution_count": 60,
      "outputs": [
        {
          "output_type": "stream",
          "text": [
            "Epoch 1/3\n",
            "51/51 [==============================] - 157s 3s/step - loss: 1.7851 - accuracy: 0.2632 - val_loss: 1.7884 - val_accuracy: 0.2733\n",
            "Epoch 2/3\n",
            "51/51 [==============================] - 158s 3s/step - loss: 1.7617 - accuracy: 0.2719 - val_loss: 1.8489 - val_accuracy: 0.2664\n",
            "Epoch 3/3\n",
            "51/51 [==============================] - 158s 3s/step - loss: 1.7590 - accuracy: 0.2673 - val_loss: 1.8360 - val_accuracy: 0.2756\n"
          ],
          "name": "stdout"
        },
        {
          "output_type": "execute_result",
          "data": {
            "text/plain": [
              "<keras.callbacks.History at 0x7f706ee192d0>"
            ]
          },
          "metadata": {
            "tags": []
          },
          "execution_count": 60
        }
      ]
    },
    {
      "cell_type": "code",
      "metadata": {
        "id": "nqeF0fPWeROG"
      },
      "source": [
        ""
      ],
      "execution_count": null,
      "outputs": []
    },
    {
      "cell_type": "code",
      "metadata": {
        "colab": {
          "base_uri": "https://localhost:8080/"
        },
        "id": "F-fb7Sm5hjsW",
        "outputId": "4d03cd61-c653-49f5-d51f-e0b403c13a75"
      },
      "source": [
        "imgs = Image.open(f'/content/1.jpg').convert('L')\n",
        "imgs=np.array(imgs)\n",
        "imgs=vgg19.preprocess_input(np.expand_dims(imgs,axis=0))\n",
        "imgs.shape=(imgs.shape[0],48,48,1)\n",
        "print(imgs.shape)\n",
        "model.predict(imgs)\n"
      ],
      "execution_count": 69,
      "outputs": [
        {
          "output_type": "stream",
          "text": [
            "(1, 48, 48, 1)\n"
          ],
          "name": "stdout"
        },
        {
          "output_type": "execute_result",
          "data": {
            "text/plain": [
              "array([[2.6387305e-04, 0.0000000e+00, 4.5310371e-16, 1.0652715e-19,\n",
              "        9.9973613e-01, 7.6975297e-17, 2.9043001e-14]], dtype=float32)"
            ]
          },
          "metadata": {
            "tags": []
          },
          "execution_count": 69
        }
      ]
    },
    {
      "cell_type": "code",
      "metadata": {
        "id": "23DseDElxCpZ"
      },
      "source": [
        ""
      ],
      "execution_count": null,
      "outputs": []
    },
    {
      "cell_type": "markdown",
      "metadata": {
        "id": "ZyCk5K_ihq-4"
      },
      "source": [
        "https://github.com/elzawie/FER2013/blob/master/Best_model.ipynb"
      ]
    }
  ]
}