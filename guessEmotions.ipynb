{
  "nbformat": 4,
  "nbformat_minor": 0,
  "metadata": {
    "colab": {
      "name": "Untitled5.ipynb",
      "provenance": [],
      "authorship_tag": "ABX9TyOjNCgRyMCgM4IfCdXdNpU/",
      "include_colab_link": true
    },
    "kernelspec": {
      "name": "python3",
      "display_name": "Python 3"
    },
    "language_info": {
      "name": "python"
    }
  },
  "cells": [
    {
      "cell_type": "markdown",
      "metadata": {
        "id": "view-in-github",
        "colab_type": "text"
      },
      "source": [
        "<a href=\"https://colab.research.google.com/github/Eliandry/Neural-networks/blob/main/guessEmotions.ipynb\" target=\"_parent\"><img src=\"https://colab.research.google.com/assets/colab-badge.svg\" alt=\"Open In Colab\"/></a>"
      ]
    },
    {
      "cell_type": "code",
      "metadata": {
        "id": "W3CU0LpHjNH5"
      },
      "source": [
        "import os\n",
        "import numpy as np\n",
        "from tensorflow import keras\n",
        "import matplotlib.pyplot as plt\n",
        "from tensorflow.keras.layers import Dense, Flatten, Dropout, Conv2D, MaxPooling2D,BatchNormalization\n",
        "from google.colab import files\n",
        "from PIL import Image\n",
        "from keras.applications import vgg19\n",
        "from sklearn.model_selection import train_test_split\n",
        "from keras.regularizers import l2\n",
        "from keras.losses import categorical_crossentropy\n",
        "from keras.optimizers import Adam\n",
        "from tensorflow.keras.utils import to_categorical"
      ],
      "execution_count": 197,
      "outputs": []
    },
    {
      "cell_type": "code",
      "metadata": {
        "colab": {
          "base_uri": "https://localhost:8080/"
        },
        "id": "7gB9zhkcjd05",
        "outputId": "f30bd223-f113-4a5e-d4c4-4effe081a881"
      },
      "source": [
        "x_train=[]\n",
        "y_train=[]\n",
        "for i in range(26):\n",
        "  img = Image.open(f'/content/tAngry/1 ({i+1}).jpg')\n",
        "  img=np.array(img)\n",
        "  x_img=vgg19.preprocess_input(np.expand_dims(img,axis=0))\n",
        "  x_img.shape=(48,48,1)\n",
        "  x_train.append(x_img)\n",
        "  y_train.append(0)\n",
        "\n",
        "for i in range(35):\n",
        "  img = Image.open(f'/content/tHappy/2 ({i+1}).jpg')\n",
        "  img=np.array(img)\n",
        "  x_img=vgg19.preprocess_input(np.expand_dims(img,axis=0))\n",
        "  x_img.shape=(48,48,1)\n",
        "  x_train.append(x_img)\n",
        "  y_train.append(1)\n",
        "\n",
        "print(x_train[0].shape)\n",
        "print(y_train)\n"
      ],
      "execution_count": 198,
      "outputs": [
        {
          "output_type": "stream",
          "text": [
            "(48, 48, 1)\n",
            "[0, 0, 0, 0, 0, 0, 0, 0, 0, 0, 0, 0, 0, 0, 0, 0, 0, 0, 0, 0, 0, 0, 0, 0, 0, 0, 1, 1, 1, 1, 1, 1, 1, 1, 1, 1, 1, 1, 1, 1, 1, 1, 1, 1, 1, 1, 1, 1, 1, 1, 1, 1, 1, 1, 1, 1, 1, 1, 1, 1, 1]\n"
          ],
          "name": "stdout"
        }
      ]
    },
    {
      "cell_type": "code",
      "metadata": {
        "id": "CSVYr_-5xObl"
      },
      "source": [
        "#y_train=to_categorical(y_train,4)\n",
        "x_train=np.expand_dims(x_train,axis=3)\n",
        "x_train=x_train.reshape(x_train.shape[0], 48, 48, 1)\n",
        "x=x_train/255\n",
        "y_train=to_categorical(y_train,2)"
      ],
      "execution_count": 199,
      "outputs": []
    },
    {
      "cell_type": "code",
      "metadata": {
        "id": "GHjmRqaP3RMk"
      },
      "source": [
        "num_features = 64\n",
        "num_labels = 2\n",
        "batch_size = 64\n",
        "epochs = 100\n",
        "width, height = 48, 48"
      ],
      "execution_count": 200,
      "outputs": []
    },
    {
      "cell_type": "code",
      "metadata": {
        "id": "uReLmdGdypSp"
      },
      "source": [
        "model = keras.Sequential()\n",
        "if 1==1:\n",
        "    model.add(Conv2D(num_features, kernel_size=(3, 3), activation='relu', input_shape=(width, height, 1), data_format='channels_last', kernel_regularizer=l2(0.01)))\n",
        "    model.add(Conv2D(num_features, kernel_size=(3, 3), activation='relu', padding='same'))\n",
        "    model.add(BatchNormalization())\n",
        "    model.add(MaxPooling2D(pool_size=(2, 2), strides=(2, 2)))\n",
        "    model.add(Dropout(0.5))\n",
        "\n",
        "    model.add(Conv2D(2*num_features, kernel_size=(3, 3), activation='relu', padding='same'))\n",
        "    model.add(BatchNormalization())\n",
        "    model.add(Conv2D(2*num_features, kernel_size=(3, 3), activation='relu', padding='same'))\n",
        "    model.add(BatchNormalization())\n",
        "    model.add(MaxPooling2D(pool_size=(2, 2), strides=(2, 2)))\n",
        "    model.add(Dropout(0.5))\n",
        "\n",
        "    model.add(Conv2D(2*2*num_features, kernel_size=(3, 3), activation='relu', padding='same'))\n",
        "    model.add(BatchNormalization())\n",
        "    model.add(Conv2D(2*2*num_features, kernel_size=(3, 3), activation='relu', padding='same'))\n",
        "    model.add(BatchNormalization())\n",
        "    model.add(MaxPooling2D(pool_size=(2, 2), strides=(2, 2)))\n",
        "    model.add(Dropout(0.5))\n",
        "\n",
        "    model.add(Conv2D(2*2*2*num_features, kernel_size=(3, 3), activation='relu', padding='same'))\n",
        "    model.add(BatchNormalization())\n",
        "    model.add(Conv2D(2*2*2*num_features, kernel_size=(3, 3), activation='relu', padding='same'))\n",
        "    model.add(BatchNormalization())\n",
        "    model.add(MaxPooling2D(pool_size=(2, 2), strides=(2, 2)))\n",
        "    model.add(Dropout(0.5))\n",
        "\n",
        "    model.add(Flatten())\n",
        "\n",
        "    model.add(Dense(2*2*2*num_features, activation='relu'))\n",
        "    model.add(Dropout(0.4))\n",
        "    model.add(Dense(2*2*num_features, activation='relu'))\n",
        "    model.add(Dropout(0.4))\n",
        "    model.add(Dense(2*num_features, activation='relu'))\n",
        "    model.add(Dropout(0.5))\n",
        "\n",
        "    model.add(Dense(2, activation='softmax'))"
      ],
      "execution_count": 201,
      "outputs": []
    },
    {
      "cell_type": "code",
      "metadata": {
        "colab": {
          "base_uri": "https://localhost:8080/"
        },
        "id": "ecuf6xss4fEH",
        "outputId": "df166ddc-f532-4310-c1f8-9fe8749ec201"
      },
      "source": [
        "model.summary()"
      ],
      "execution_count": 194,
      "outputs": [
        {
          "output_type": "stream",
          "text": [
            "Model: \"sequential_23\"\n",
            "_________________________________________________________________\n",
            "Layer (type)                 Output Shape              Param #   \n",
            "=================================================================\n",
            "conv2d_109 (Conv2D)          (None, 46, 46, 64)        640       \n",
            "_________________________________________________________________\n",
            "conv2d_110 (Conv2D)          (None, 46, 46, 64)        36928     \n",
            "_________________________________________________________________\n",
            "batch_normalization_77 (Batc (None, 46, 46, 64)        256       \n",
            "_________________________________________________________________\n",
            "max_pooling2d_62 (MaxPooling (None, 23, 23, 64)        0         \n",
            "_________________________________________________________________\n",
            "dropout_77 (Dropout)         (None, 23, 23, 64)        0         \n",
            "_________________________________________________________________\n",
            "conv2d_111 (Conv2D)          (None, 23, 23, 128)       73856     \n",
            "_________________________________________________________________\n",
            "batch_normalization_78 (Batc (None, 23, 23, 128)       512       \n",
            "_________________________________________________________________\n",
            "conv2d_112 (Conv2D)          (None, 23, 23, 128)       147584    \n",
            "_________________________________________________________________\n",
            "batch_normalization_79 (Batc (None, 23, 23, 128)       512       \n",
            "_________________________________________________________________\n",
            "max_pooling2d_63 (MaxPooling (None, 11, 11, 128)       0         \n",
            "_________________________________________________________________\n",
            "dropout_78 (Dropout)         (None, 11, 11, 128)       0         \n",
            "_________________________________________________________________\n",
            "conv2d_113 (Conv2D)          (None, 11, 11, 256)       295168    \n",
            "_________________________________________________________________\n",
            "batch_normalization_80 (Batc (None, 11, 11, 256)       1024      \n",
            "_________________________________________________________________\n",
            "conv2d_114 (Conv2D)          (None, 11, 11, 256)       590080    \n",
            "_________________________________________________________________\n",
            "batch_normalization_81 (Batc (None, 11, 11, 256)       1024      \n",
            "_________________________________________________________________\n",
            "max_pooling2d_64 (MaxPooling (None, 5, 5, 256)         0         \n",
            "_________________________________________________________________\n",
            "dropout_79 (Dropout)         (None, 5, 5, 256)         0         \n",
            "_________________________________________________________________\n",
            "conv2d_115 (Conv2D)          (None, 5, 5, 512)         1180160   \n",
            "_________________________________________________________________\n",
            "batch_normalization_82 (Batc (None, 5, 5, 512)         2048      \n",
            "_________________________________________________________________\n",
            "conv2d_116 (Conv2D)          (None, 5, 5, 512)         2359808   \n",
            "_________________________________________________________________\n",
            "batch_normalization_83 (Batc (None, 5, 5, 512)         2048      \n",
            "_________________________________________________________________\n",
            "max_pooling2d_65 (MaxPooling (None, 2, 2, 512)         0         \n",
            "_________________________________________________________________\n",
            "dropout_80 (Dropout)         (None, 2, 2, 512)         0         \n",
            "_________________________________________________________________\n",
            "flatten_20 (Flatten)         (None, 2048)              0         \n",
            "_________________________________________________________________\n",
            "dense_62 (Dense)             (None, 512)               1049088   \n",
            "_________________________________________________________________\n",
            "dropout_81 (Dropout)         (None, 512)               0         \n",
            "_________________________________________________________________\n",
            "dense_63 (Dense)             (None, 256)               131328    \n",
            "_________________________________________________________________\n",
            "dropout_82 (Dropout)         (None, 256)               0         \n",
            "_________________________________________________________________\n",
            "dense_64 (Dense)             (None, 128)               32896     \n",
            "_________________________________________________________________\n",
            "dropout_83 (Dropout)         (None, 128)               0         \n",
            "_________________________________________________________________\n",
            "dense_65 (Dense)             (None, 2)                 258       \n",
            "=================================================================\n",
            "Total params: 5,905,218\n",
            "Trainable params: 5,901,506\n",
            "Non-trainable params: 3,712\n",
            "_________________________________________________________________\n"
          ],
          "name": "stdout"
        }
      ]
    },
    {
      "cell_type": "code",
      "metadata": {
        "colab": {
          "base_uri": "https://localhost:8080/"
        },
        "id": "ZKHA-YKsyvAO",
        "outputId": "69b5a9dc-9fe7-4b48-ca43-8c844a223edc"
      },
      "source": [
        "model.compile(loss=\"binary_crossentropy\",\n",
        "                  optimizer=Adam(lr=0.001, beta_1=0.9, beta_2=0.999, epsilon=1e-7),\n",
        "                  metrics=['accuracy'])"
      ],
      "execution_count": 202,
      "outputs": [
        {
          "output_type": "stream",
          "text": [
            "/usr/local/lib/python3.7/dist-packages/tensorflow/python/keras/optimizer_v2/optimizer_v2.py:375: UserWarning: The `lr` argument is deprecated, use `learning_rate` instead.\n",
            "  \"The `lr` argument is deprecated, use `learning_rate` instead.\")\n"
          ],
          "name": "stderr"
        }
      ]
    },
    {
      "cell_type": "code",
      "metadata": {
        "colab": {
          "base_uri": "https://localhost:8080/"
        },
        "id": "Y74_n6-Cy1_U",
        "outputId": "4de21617-95cd-47a0-92a6-fcaf183e7f9c"
      },
      "source": [
        "print(y_train[1])\n",
        "model.fit(np.array(x), np.array(y_train),\n",
        "              batch_size=batch_size,\n",
        "              epochs=100,\n",
        "              verbose=1)"
      ],
      "execution_count": 228,
      "outputs": [
        {
          "output_type": "stream",
          "text": [
            "[1. 0.]\n",
            "Epoch 1/100\n",
            "1/1 [==============================] - 4s 4s/step - loss: 0.8385 - accuracy: 0.6557\n",
            "Epoch 2/100\n",
            "1/1 [==============================] - 4s 4s/step - loss: 0.8146 - accuracy: 0.6721\n",
            "Epoch 3/100\n",
            "1/1 [==============================] - 4s 4s/step - loss: 0.7960 - accuracy: 0.6721\n",
            "Epoch 4/100\n",
            "1/1 [==============================] - 4s 4s/step - loss: 0.7381 - accuracy: 0.6885\n",
            "Epoch 5/100\n",
            "1/1 [==============================] - 4s 4s/step - loss: 0.6820 - accuracy: 0.6885\n",
            "Epoch 6/100\n",
            "1/1 [==============================] - 4s 4s/step - loss: 0.8799 - accuracy: 0.5902\n",
            "Epoch 7/100\n",
            "1/1 [==============================] - 4s 4s/step - loss: 0.8493 - accuracy: 0.6393\n",
            "Epoch 8/100\n",
            "1/1 [==============================] - 4s 4s/step - loss: 0.7030 - accuracy: 0.7377\n",
            "Epoch 9/100\n",
            "1/1 [==============================] - 4s 4s/step - loss: 0.6760 - accuracy: 0.7705\n",
            "Epoch 10/100\n",
            "1/1 [==============================] - 4s 4s/step - loss: 0.6428 - accuracy: 0.7213\n",
            "Epoch 11/100\n",
            "1/1 [==============================] - 4s 4s/step - loss: 0.6688 - accuracy: 0.6557\n",
            "Epoch 12/100\n",
            "1/1 [==============================] - 4s 4s/step - loss: 0.6673 - accuracy: 0.7213\n",
            "Epoch 13/100\n",
            "1/1 [==============================] - 4s 4s/step - loss: 0.5904 - accuracy: 0.7541\n",
            "Epoch 14/100\n",
            "1/1 [==============================] - 4s 4s/step - loss: 0.6567 - accuracy: 0.7213\n",
            "Epoch 15/100\n",
            "1/1 [==============================] - 4s 4s/step - loss: 0.6656 - accuracy: 0.7541\n",
            "Epoch 16/100\n",
            "1/1 [==============================] - 4s 4s/step - loss: 0.7287 - accuracy: 0.6885\n",
            "Epoch 17/100\n",
            "1/1 [==============================] - 4s 4s/step - loss: 0.6267 - accuracy: 0.7377\n",
            "Epoch 18/100\n",
            "1/1 [==============================] - 4s 4s/step - loss: 0.5566 - accuracy: 0.8361\n",
            "Epoch 19/100\n",
            "1/1 [==============================] - 4s 4s/step - loss: 0.6177 - accuracy: 0.7541\n",
            "Epoch 20/100\n",
            "1/1 [==============================] - 4s 4s/step - loss: 0.4961 - accuracy: 0.8197\n",
            "Epoch 21/100\n",
            "1/1 [==============================] - 4s 4s/step - loss: 0.5512 - accuracy: 0.7377\n",
            "Epoch 22/100\n",
            "1/1 [==============================] - 4s 4s/step - loss: 0.4308 - accuracy: 0.8525\n",
            "Epoch 23/100\n",
            "1/1 [==============================] - 4s 4s/step - loss: 0.5362 - accuracy: 0.7869\n",
            "Epoch 24/100\n",
            "1/1 [==============================] - 4s 4s/step - loss: 0.5372 - accuracy: 0.8033\n",
            "Epoch 25/100\n",
            "1/1 [==============================] - 4s 4s/step - loss: 0.5760 - accuracy: 0.7213\n",
            "Epoch 26/100\n",
            "1/1 [==============================] - 4s 4s/step - loss: 0.5284 - accuracy: 0.7541\n",
            "Epoch 27/100\n",
            "1/1 [==============================] - 4s 4s/step - loss: 0.4914 - accuracy: 0.8525\n",
            "Epoch 28/100\n",
            "1/1 [==============================] - 4s 4s/step - loss: 0.5175 - accuracy: 0.8361\n",
            "Epoch 29/100\n",
            "1/1 [==============================] - 4s 4s/step - loss: 0.4595 - accuracy: 0.8361\n",
            "Epoch 30/100\n",
            "1/1 [==============================] - 4s 4s/step - loss: 0.4226 - accuracy: 0.8033\n",
            "Epoch 31/100\n",
            "1/1 [==============================] - 4s 4s/step - loss: 0.3971 - accuracy: 0.9016\n",
            "Epoch 32/100\n",
            "1/1 [==============================] - 4s 4s/step - loss: 0.4796 - accuracy: 0.8033\n",
            "Epoch 33/100\n",
            "1/1 [==============================] - 4s 4s/step - loss: 0.3816 - accuracy: 0.8525\n",
            "Epoch 34/100\n",
            "1/1 [==============================] - 4s 4s/step - loss: 0.4141 - accuracy: 0.8525\n",
            "Epoch 35/100\n",
            "1/1 [==============================] - 4s 4s/step - loss: 0.4576 - accuracy: 0.8525\n",
            "Epoch 36/100\n",
            "1/1 [==============================] - 4s 4s/step - loss: 0.4283 - accuracy: 0.8689\n",
            "Epoch 37/100\n",
            "1/1 [==============================] - 4s 4s/step - loss: 0.3870 - accuracy: 0.8197\n",
            "Epoch 38/100\n",
            "1/1 [==============================] - 4s 4s/step - loss: 0.5366 - accuracy: 0.7869\n",
            "Epoch 39/100\n",
            "1/1 [==============================] - 4s 4s/step - loss: 0.3872 - accuracy: 0.8525\n",
            "Epoch 40/100\n",
            "1/1 [==============================] - 4s 4s/step - loss: 0.3972 - accuracy: 0.8033\n",
            "Epoch 41/100\n",
            "1/1 [==============================] - 4s 4s/step - loss: 0.2701 - accuracy: 0.9016\n",
            "Epoch 42/100\n",
            "1/1 [==============================] - 4s 4s/step - loss: 0.3678 - accuracy: 0.8197\n",
            "Epoch 43/100\n",
            "1/1 [==============================] - 4s 4s/step - loss: 0.2658 - accuracy: 0.8361\n",
            "Epoch 44/100\n",
            "1/1 [==============================] - 4s 4s/step - loss: 0.3300 - accuracy: 0.8689\n",
            "Epoch 45/100\n",
            "1/1 [==============================] - 4s 4s/step - loss: 0.3044 - accuracy: 0.8525\n",
            "Epoch 46/100\n",
            "1/1 [==============================] - 4s 4s/step - loss: 0.2902 - accuracy: 0.8689\n",
            "Epoch 47/100\n",
            "1/1 [==============================] - 4s 4s/step - loss: 0.3455 - accuracy: 0.9016\n",
            "Epoch 48/100\n",
            "1/1 [==============================] - 4s 4s/step - loss: 0.2000 - accuracy: 0.9344\n",
            "Epoch 49/100\n",
            "1/1 [==============================] - 4s 4s/step - loss: 0.3445 - accuracy: 0.8852\n",
            "Epoch 50/100\n",
            "1/1 [==============================] - 4s 4s/step - loss: 0.3228 - accuracy: 0.8689\n",
            "Epoch 51/100\n",
            "1/1 [==============================] - 4s 4s/step - loss: 0.2522 - accuracy: 0.9344\n",
            "Epoch 52/100\n",
            "1/1 [==============================] - 4s 4s/step - loss: 0.1784 - accuracy: 0.9180\n",
            "Epoch 53/100\n",
            "1/1 [==============================] - 4s 4s/step - loss: 0.2805 - accuracy: 0.8689\n",
            "Epoch 54/100\n",
            "1/1 [==============================] - 4s 4s/step - loss: 0.2124 - accuracy: 0.9508\n",
            "Epoch 55/100\n",
            "1/1 [==============================] - 4s 4s/step - loss: 0.2258 - accuracy: 0.8852\n",
            "Epoch 56/100\n",
            "1/1 [==============================] - 4s 4s/step - loss: 0.1649 - accuracy: 0.9508\n",
            "Epoch 57/100\n",
            "1/1 [==============================] - 4s 4s/step - loss: 0.1851 - accuracy: 0.9180\n",
            "Epoch 58/100\n",
            "1/1 [==============================] - 4s 4s/step - loss: 0.2238 - accuracy: 0.8852\n",
            "Epoch 59/100\n",
            "1/1 [==============================] - 4s 4s/step - loss: 0.1959 - accuracy: 0.9344\n",
            "Epoch 60/100\n",
            "1/1 [==============================] - 4s 4s/step - loss: 0.1482 - accuracy: 0.9180\n",
            "Epoch 61/100\n",
            "1/1 [==============================] - 4s 4s/step - loss: 0.2800 - accuracy: 0.9344\n",
            "Epoch 62/100\n",
            "1/1 [==============================] - 4s 4s/step - loss: 0.1370 - accuracy: 0.9344\n",
            "Epoch 63/100\n",
            "1/1 [==============================] - 4s 4s/step - loss: 0.1538 - accuracy: 0.9508\n",
            "Epoch 64/100\n",
            "1/1 [==============================] - 4s 4s/step - loss: 0.1820 - accuracy: 0.9508\n",
            "Epoch 65/100\n",
            "1/1 [==============================] - 4s 4s/step - loss: 0.0933 - accuracy: 0.9836\n",
            "Epoch 66/100\n",
            "1/1 [==============================] - 4s 4s/step - loss: 0.1490 - accuracy: 0.9180\n",
            "Epoch 67/100\n",
            "1/1 [==============================] - 4s 4s/step - loss: 0.0976 - accuracy: 0.9508\n",
            "Epoch 68/100\n",
            "1/1 [==============================] - 4s 4s/step - loss: 0.1184 - accuracy: 0.9672\n",
            "Epoch 69/100\n",
            "1/1 [==============================] - 4s 4s/step - loss: 0.1351 - accuracy: 0.9672\n",
            "Epoch 70/100\n",
            "1/1 [==============================] - 4s 4s/step - loss: 0.1835 - accuracy: 0.9344\n",
            "Epoch 71/100\n",
            "1/1 [==============================] - 4s 4s/step - loss: 0.1414 - accuracy: 0.9508\n",
            "Epoch 72/100\n",
            "1/1 [==============================] - 4s 4s/step - loss: 0.1566 - accuracy: 0.9508\n",
            "Epoch 73/100\n",
            "1/1 [==============================] - 4s 4s/step - loss: 0.1307 - accuracy: 0.9672\n",
            "Epoch 74/100\n",
            "1/1 [==============================] - 4s 4s/step - loss: 0.1035 - accuracy: 0.9672\n",
            "Epoch 75/100\n",
            "1/1 [==============================] - 4s 4s/step - loss: 0.1273 - accuracy: 0.9508\n",
            "Epoch 76/100\n",
            "1/1 [==============================] - 4s 4s/step - loss: 0.1238 - accuracy: 0.9672\n",
            "Epoch 77/100\n",
            "1/1 [==============================] - 4s 4s/step - loss: 0.0978 - accuracy: 0.9508\n",
            "Epoch 78/100\n",
            "1/1 [==============================] - 4s 4s/step - loss: 0.0997 - accuracy: 0.9672\n",
            "Epoch 79/100\n",
            "1/1 [==============================] - 4s 4s/step - loss: 0.0846 - accuracy: 0.9836\n",
            "Epoch 80/100\n",
            "1/1 [==============================] - 4s 4s/step - loss: 0.1202 - accuracy: 0.9836\n",
            "Epoch 81/100\n",
            "1/1 [==============================] - 4s 4s/step - loss: 0.1144 - accuracy: 0.9672\n",
            "Epoch 82/100\n",
            "1/1 [==============================] - 4s 4s/step - loss: 0.0991 - accuracy: 0.9836\n",
            "Epoch 83/100\n",
            "1/1 [==============================] - 4s 4s/step - loss: 0.1090 - accuracy: 0.9836\n",
            "Epoch 84/100\n",
            "1/1 [==============================] - 4s 4s/step - loss: 0.0833 - accuracy: 0.9508\n",
            "Epoch 85/100\n",
            "1/1 [==============================] - 4s 4s/step - loss: 0.0767 - accuracy: 0.9836\n",
            "Epoch 86/100\n",
            "1/1 [==============================] - 4s 4s/step - loss: 0.0846 - accuracy: 0.9836\n",
            "Epoch 87/100\n",
            "1/1 [==============================] - 4s 4s/step - loss: 0.1698 - accuracy: 0.9180\n",
            "Epoch 88/100\n",
            "1/1 [==============================] - 4s 4s/step - loss: 0.1291 - accuracy: 0.9508\n",
            "Epoch 89/100\n",
            "1/1 [==============================] - 4s 4s/step - loss: 0.0845 - accuracy: 0.9836\n",
            "Epoch 90/100\n",
            "1/1 [==============================] - 4s 4s/step - loss: 0.2959 - accuracy: 0.9344\n",
            "Epoch 91/100\n",
            "1/1 [==============================] - 4s 4s/step - loss: 0.0926 - accuracy: 0.9836\n",
            "Epoch 92/100\n",
            "1/1 [==============================] - 4s 4s/step - loss: 0.0955 - accuracy: 0.9672\n",
            "Epoch 93/100\n",
            "1/1 [==============================] - 4s 4s/step - loss: 0.0849 - accuracy: 0.9836\n",
            "Epoch 94/100\n",
            "1/1 [==============================] - 4s 4s/step - loss: 0.0621 - accuracy: 0.9836\n",
            "Epoch 95/100\n",
            "1/1 [==============================] - 4s 4s/step - loss: 0.1241 - accuracy: 0.9508\n",
            "Epoch 96/100\n",
            "1/1 [==============================] - 4s 4s/step - loss: 0.1096 - accuracy: 0.9836\n",
            "Epoch 97/100\n",
            "1/1 [==============================] - 4s 4s/step - loss: 0.1240 - accuracy: 0.9344\n",
            "Epoch 98/100\n",
            "1/1 [==============================] - 4s 4s/step - loss: 0.0626 - accuracy: 0.9836\n",
            "Epoch 99/100\n",
            "1/1 [==============================] - 4s 4s/step - loss: 0.0837 - accuracy: 0.9672\n",
            "Epoch 100/100\n",
            "1/1 [==============================] - 4s 4s/step - loss: 0.0622 - accuracy: 0.9836\n"
          ],
          "name": "stdout"
        },
        {
          "output_type": "execute_result",
          "data": {
            "text/plain": [
              "<tensorflow.python.keras.callbacks.History at 0x7f7e0af92c10>"
            ]
          },
          "metadata": {
            "tags": []
          },
          "execution_count": 228
        }
      ]
    },
    {
      "cell_type": "code",
      "metadata": {
        "colab": {
          "base_uri": "https://localhost:8080/",
          "height": 284
        },
        "id": "lBcQ8_FqFRuR",
        "outputId": "2a474c31-0c5a-450e-8f65-f481b4175c7a"
      },
      "source": [
        "imgs = Image.open(f'/content/tAngry/1 (12).jpg')\n",
        "plt.imshow(imgs)\n",
        "x_img=vgg19.preprocess_input(np.expand_dims(imgs,axis=0))\n",
        "x_img.shape=(x_img.shape[0],48,48,1)\n",
        "model.predict(np.array(x_img))"
      ],
      "execution_count": 234,
      "outputs": [
        {
          "output_type": "execute_result",
          "data": {
            "text/plain": [
              "array([[0., 1.]], dtype=float32)"
            ]
          },
          "metadata": {
            "tags": []
          },
          "execution_count": 234
        },
        {
          "output_type": "display_data",
          "data": {
            "image/png": "[encoded data removed]",
            "text/plain": [
              "<Figure size 432x288 with 1 Axes>"
            ]
          },
          "metadata": {
            "tags": [],
            "needs_background": "light"
          }
        }
      ]
    }
  ]
}