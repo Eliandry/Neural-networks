{
  "nbformat": 4,
  "nbformat_minor": 0,
  "metadata": {
    "colab": {
      "name": "kerasLesson.ipynb",
      "provenance": [],
      "collapsed_sections": [],
      "authorship_tag": "ABX9TyNGiHbzxak68DtZn6RZRBqb",
      "include_colab_link": true
    },
    "kernelspec": {
      "name": "python3",
      "display_name": "Python 3"
    }
  },
  "cells": [
    {
      "cell_type": "markdown",
      "metadata": {
        "id": "view-in-github",
        "colab_type": "text"
      },
      "source": [
        "<a href=\"https://colab.research.google.com/github/Eliandry/Neural-networks/blob/main/kerasLesson.ipynb\" target=\"_parent\"><img src=\"https://colab.research.google.com/assets/colab-badge.svg\" alt=\"Open In Colab\"/></a>"
      ]
    },
    {
      "cell_type": "code",
      "metadata": {
        "id": "5XDk8SxCtFPI"
      },
      "source": [
        "import numpy as np\r\n",
        "import matplotlib.pyplot as plt\r\n",
        "import keras\r\n",
        "from keras.layers import Dense\r\n"
      ],
      "execution_count": 3,
      "outputs": []
    },
    {
      "cell_type": "markdown",
      "metadata": {
        "id": "IIXwO29Ptn6G"
      },
      "source": [
        "выборка"
      ]
    },
    {
      "cell_type": "code",
      "metadata": {
        "colab": {
          "base_uri": "https://localhost:8080/",
          "height": 265
        },
        "id": "0S9ZsFDLtqfu",
        "outputId": "5854a49b-7ca5-4be7-80d8-5f205974caae"
      },
      "source": [
        "c = np.array([-40,-10,0,8,15,22,38])\r\n",
        "f=np.array([-40,14,32,46.4,59,71.6,100.4])\r\n",
        "\r\n",
        "model = keras.Sequential()\r\n",
        "model.add(Dense(units=1,input_shape=(1,),activation='linear'))\r\n",
        "model.compile(loss='mean_squared_error',optimizer=keras.optimizers.Adam(0.1))\r\n",
        "\r\n",
        "history = model.fit(c,f,epochs=600,verbose=0)\r\n",
        "\r\n",
        "plt.plot(history.history['loss'])\r\n",
        "plt.grid(True)\r\n",
        "plt.show()"
      ],
      "execution_count": 18,
      "outputs": [
        {
          "output_type": "display_data",
          "data": {
            "image/png": "[encoded data removed]",
            "text/plain": [
              "<Figure size 432x288 with 1 Axes>"
            ]
          },
          "metadata": {
            "tags": [],
            "needs_background": "light"
          }
        }
      ]
    },
    {
      "cell_type": "code",
      "metadata": {
        "colab": {
          "base_uri": "https://localhost:8080/"
        },
        "id": "fnds-sH6wx_R",
        "outputId": "50636a89-3852-44fb-b112-b2a990d25842"
      },
      "source": [
        "print(model.predict([100]))"
      ],
      "execution_count": 22,
      "outputs": [
        {
          "output_type": "stream",
          "text": [
            "[[211.76556]]\n"
          ],
          "name": "stdout"
        }
      ]
    },
    {
      "cell_type": "code",
      "metadata": {
        "colab": {
          "base_uri": "https://localhost:8080/"
        },
        "id": "XsPEQ3CWyaXp",
        "outputId": "e46ad2c6-ca30-4676-8360-c1a1fc60cc01"
      },
      "source": [
        "print(model.get_weights())"
      ],
      "execution_count": 23,
      "outputs": [
        {
          "output_type": "stream",
          "text": [
            "[array([[1.8149717]], dtype=float32), array([30.26841], dtype=float32)]\n"
          ],
          "name": "stdout"
        }
      ]
    }
  ]
}