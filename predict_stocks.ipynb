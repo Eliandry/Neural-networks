{
  "nbformat": 4,
  "nbformat_minor": 0,
  "metadata": {
    "colab": {
      "name": "predict_stocks.ipynb",
      "provenance": [],
      "authorship_tag": "ABX9TyPjLcZMKbnC/DoA037eZ0AG",
      "include_colab_link": true
    },
    "kernelspec": {
      "name": "python3",
      "display_name": "Python 3"
    },
    "language_info": {
      "name": "python"
    }
  },
  "cells": [
    {
      "cell_type": "markdown",
      "metadata": {
        "id": "view-in-github",
        "colab_type": "text"
      },
      "source": [
        "<a href=\"https://colab.research.google.com/github/Eliandry/Neural-networks/blob/main/predict_stocks.ipynb\" target=\"_parent\"><img src=\"https://colab.research.google.com/assets/colab-badge.svg\" alt=\"Open In Colab\"/></a>"
      ]
    },
    {
      "cell_type": "code",
      "metadata": {
        "id": "Ufrz62cgLftg"
      },
      "source": [
        "import numpy as np\n",
        "import matplotlib.pyplot as plt\n",
        "import pandas as pd\n",
        "import pandas_datareader as web\n",
        "import datetime as dt\n",
        "from sklearn.preprocessing import MinMaxScaler\n",
        "from keras.models import Sequential\n",
        "from keras.layers import Dense,Dropout,LSTM\n",
        "from keras.optimizers import Adam"
      ],
      "execution_count": 27,
      "outputs": []
    },
    {
      "cell_type": "code",
      "metadata": {
        "colab": {
          "base_uri": "https://localhost:8080/"
        },
        "id": "WF-oSfUlMbJf",
        "outputId": "d5d40519-d5b5-4ee5-92f7-c8cf03610549"
      },
      "source": [
        "company='HPQ'\n",
        "start_time=dt.datetime(2012,1,1)\n",
        "end=dt.datetime(2021,1,1)\n",
        "\n",
        "data=web.DataReader(company,'yahoo',start_time,end)\n",
        "print(data)"
      ],
      "execution_count": 73,
      "outputs": [
        {
          "output_type": "stream",
          "text": [
            "                 High        Low       Open      Close      Volume  Adj Close\n",
            "Date                                                                         \n",
            "2012-01-03  12.184378  11.952770  11.952770  12.089010  29487863.0   9.347036\n",
            "2012-01-04  12.170754  12.007266  12.043597  12.079927  24478313.0   9.340011\n",
            "2012-01-05  12.075386  11.920981  11.952770  12.034514  30491094.0   9.304898\n",
            "2012-01-06  12.084469  11.943688  12.066303  11.989101  25775951.0   9.269787\n",
            "2012-01-09  12.084469  11.957312  11.984559  12.007266  24350597.0   9.283834\n",
            "...               ...        ...        ...        ...         ...        ...\n",
            "2020-12-24  24.450001  24.160000  24.330000  24.260000   2309800.0  24.260000\n",
            "2020-12-28  24.629999  24.250000  24.309999  24.270000   5592900.0  24.270000\n",
            "2020-12-29  24.430000  23.969999  24.270000  24.049999   5831200.0  24.049999\n",
            "2020-12-30  24.690001  24.200001  24.200001  24.320000   7556300.0  24.320000\n",
            "2020-12-31  24.690001  24.230000  24.340000  24.590000   6368200.0  24.590000\n",
            "\n",
            "[2265 rows x 6 columns]\n"
          ],
          "name": "stdout"
        }
      ]
    },
    {
      "cell_type": "code",
      "metadata": {
        "id": "KHAIQw9bN0mE"
      },
      "source": [
        "scaler=MinMaxScaler(feature_range=(0,1))\n",
        "scaled_data=scaler.fit_transform(data['Adj Close'].values.reshape(-1,1))"
      ],
      "execution_count": 74,
      "outputs": []
    },
    {
      "cell_type": "code",
      "metadata": {
        "id": "9a8gRT-3OdnJ"
      },
      "source": [
        "pred=60\n",
        "x_train=[]\n",
        "y_train=[]\n",
        "for x in range(pred,len(scaled_data)):\n",
        "  x_train.append(scaled_data[x-pred:x,0])\n",
        "  y_train.append(scaled_data[x,0])\n",
        "\n",
        "x_train,y_train=np.array(x_train),np.array(y_train)\n",
        "x_train=np.reshape(x_train,(x_train.shape[0],x_train.shape[1],1))"
      ],
      "execution_count": 75,
      "outputs": []
    },
    {
      "cell_type": "code",
      "metadata": {
        "id": "Nafu6zQMQq-1"
      },
      "source": [
        "model=Sequential()\n",
        "model.add(LSTM(units=60, return_sequences=True,input_shape=(x_train.shape[1],1)))\n",
        "model.add(Dropout(0.2))\n",
        "\n",
        "model.add(LSTM(units=60, return_sequences=True))\n",
        "model.add(Dropout(0.2))\n",
        "\n",
        "model.add(LSTM(units=60))\n",
        "model.add(Dropout(0.2))\n",
        "\n",
        "model.add(Dense(units=1))"
      ],
      "execution_count": 76,
      "outputs": []
    },
    {
      "cell_type": "code",
      "metadata": {
        "colab": {
          "base_uri": "https://localhost:8080/"
        },
        "id": "tJEpdsBZSn50",
        "outputId": "910660d7-76d3-461f-e60b-28cb9d565d27"
      },
      "source": [
        "model.compile(loss='mean_squared_error',optimizer=Adam(0.01))\n",
        "model.fit(x_train,y_train,epochs=30,batch_size=32)"
      ],
      "execution_count": 77,
      "outputs": [
        {
          "output_type": "stream",
          "text": [
            "Epoch 1/30\n",
            "69/69 [==============================] - 11s 90ms/step - loss: 0.1343\n",
            "Epoch 2/30\n",
            "69/69 [==============================] - 6s 90ms/step - loss: 0.0038\n",
            "Epoch 3/30\n",
            "69/69 [==============================] - 6s 91ms/step - loss: 0.0034\n",
            "Epoch 4/30\n",
            "69/69 [==============================] - 6s 89ms/step - loss: 0.0028\n",
            "Epoch 5/30\n",
            "69/69 [==============================] - 6s 92ms/step - loss: 0.0029\n",
            "Epoch 6/30\n",
            "69/69 [==============================] - 6s 91ms/step - loss: 0.0023\n",
            "Epoch 7/30\n",
            "69/69 [==============================] - 6s 91ms/step - loss: 0.0024\n",
            "Epoch 8/30\n",
            "69/69 [==============================] - 6s 91ms/step - loss: 0.0021\n",
            "Epoch 9/30\n",
            "69/69 [==============================] - 6s 92ms/step - loss: 0.0019\n",
            "Epoch 10/30\n",
            "69/69 [==============================] - 6s 92ms/step - loss: 0.0022\n",
            "Epoch 11/30\n",
            "69/69 [==============================] - 6s 92ms/step - loss: 0.0019\n",
            "Epoch 12/30\n",
            "69/69 [==============================] - 6s 92ms/step - loss: 0.0016\n",
            "Epoch 13/30\n",
            "69/69 [==============================] - 6s 91ms/step - loss: 0.0017\n",
            "Epoch 14/30\n",
            "69/69 [==============================] - 6s 92ms/step - loss: 0.0017\n",
            "Epoch 15/30\n",
            "69/69 [==============================] - 6s 92ms/step - loss: 0.0012\n",
            "Epoch 16/30\n",
            "69/69 [==============================] - 6s 92ms/step - loss: 0.0015\n",
            "Epoch 17/30\n",
            "69/69 [==============================] - 6s 91ms/step - loss: 0.0014\n",
            "Epoch 18/30\n",
            "69/69 [==============================] - 6s 91ms/step - loss: 0.0014\n",
            "Epoch 19/30\n",
            "69/69 [==============================] - 6s 92ms/step - loss: 0.0012\n",
            "Epoch 20/30\n",
            "69/69 [==============================] - 6s 92ms/step - loss: 0.0012\n",
            "Epoch 21/30\n",
            "69/69 [==============================] - 6s 92ms/step - loss: 0.0012\n",
            "Epoch 22/30\n",
            "69/69 [==============================] - 6s 92ms/step - loss: 0.0013\n",
            "Epoch 23/30\n",
            "69/69 [==============================] - 6s 93ms/step - loss: 0.0013\n",
            "Epoch 24/30\n",
            "69/69 [==============================] - 6s 94ms/step - loss: 0.0011\n",
            "Epoch 25/30\n",
            "69/69 [==============================] - 6s 91ms/step - loss: 0.0012\n",
            "Epoch 26/30\n",
            "69/69 [==============================] - 6s 91ms/step - loss: 0.0011\n",
            "Epoch 27/30\n",
            "69/69 [==============================] - 6s 91ms/step - loss: 9.6218e-04\n",
            "Epoch 28/30\n",
            "69/69 [==============================] - 6s 91ms/step - loss: 8.8651e-04\n",
            "Epoch 29/30\n",
            "69/69 [==============================] - 6s 93ms/step - loss: 0.0011\n",
            "Epoch 30/30\n",
            "69/69 [==============================] - 6s 92ms/step - loss: 9.6048e-04\n"
          ],
          "name": "stdout"
        },
        {
          "output_type": "execute_result",
          "data": {
            "text/plain": [
              "<tensorflow.python.keras.callbacks.History at 0x7f1cb3f1a350>"
            ]
          },
          "metadata": {
            "tags": []
          },
          "execution_count": 77
        }
      ]
    },
    {
      "cell_type": "code",
      "metadata": {
        "id": "EH8DzgQfTrjq"
      },
      "source": [
        "test_start=dt.datetime(2020,1,1)\n",
        "test_end=dt.datetime.now()\n",
        "test_data=web.DataReader(company,'yahoo',test_start,test_end)\n",
        "actual=test_data['Adj Close'].values\n",
        "total=pd.concat((data['Adj Close'],test_data['Adj Close']),axis=0)\n",
        "\n",
        "inp=total[len(total)-len(test_data)-pred:].values\n",
        "inp= inp.reshape(-1,1)\n",
        "inp=scaler.transform(inp)\n",
        "\n",
        "\n",
        "x_test=[]\n",
        "\n",
        "for x in range(pred,len(inp)):\n",
        "  x_test.append(inp[x-pred:x,0])\n",
        "\n",
        "\n",
        "x_test=np.array(x_test)\n",
        "x_test=np.reshape(x_test,(x_test.shape[0],x_test.shape[1],1))\n",
        "\n",
        "pred_prices=model.predict(x_test)\n",
        "pred_prices=scaler.inverse_transform(pred_prices)\n"
      ],
      "execution_count": 78,
      "outputs": []
    },
    {
      "cell_type": "code",
      "metadata": {
        "colab": {
          "base_uri": "https://localhost:8080/",
          "height": 312
        },
        "id": "0Uzr-Duyb0Rs",
        "outputId": "b3b7e8e9-9070-46ff-8c69-23be2908b90b"
      },
      "source": [
        "plt.plot(actual,color='black')\n",
        "plt.plot(pred_prices,color='green')\n",
        "plt.title(f'{company}')\n",
        "plt.xlabel('Time')\n",
        "plt.ylabel('Price')\n",
        "plt.legend()\n",
        "plt.show()"
      ],
      "execution_count": 79,
      "outputs": [
        {
          "output_type": "stream",
          "text": [
            "No handles with labels found to put in legend.\n"
          ],
          "name": "stderr"
        },
        {
          "output_type": "display_data",
          "data": {
            "image/png": "[encoded data removed]",
            "text/plain": [
              "<Figure size 432x288 with 1 Axes>"
            ]
          },
          "metadata": {
            "tags": [],
            "needs_background": "light"
          }
        }
      ]
    },
    {
      "cell_type": "code",
      "metadata": {
        "colab": {
          "base_uri": "https://localhost:8080/"
        },
        "id": "7j9aV_NVdB-u",
        "outputId": "99a0e892-aa76-4189-ac26-da575f933968"
      },
      "source": [
        "real=[inp[len(inp)+1-pred:len(inp+1),0]]\n",
        "real=np.array(real)\n",
        "real=np.reshape(real,(real.shape[0],real.shape[1],1))\n",
        "\n",
        "print(scaler.inverse_transform(real[-1]))"
      ],
      "execution_count": 80,
      "outputs": [
        {
          "output_type": "stream",
          "text": [
            "[[24.34000015]\n",
            " [24.47999954]\n",
            " [24.88999939]\n",
            " [25.22999954]\n",
            " [25.95000076]\n",
            " [26.14999962]\n",
            " [27.29999924]\n",
            " [27.09000015]\n",
            " [27.14999962]\n",
            " [27.37999916]\n",
            " [27.48999977]\n",
            " [27.15999985]\n",
            " [26.28000069]\n",
            " [26.40999985]\n",
            " [27.10000038]\n",
            " [27.12000084]\n",
            " [27.37999916]\n",
            " [27.96999931]\n",
            " [28.19000053]\n",
            " [28.96999931]\n",
            " [29.57999992]\n",
            " [30.04000092]\n",
            " [29.81999969]\n",
            " [28.06999969]\n",
            " [29.75      ]\n",
            " [30.15999985]\n",
            " [30.10000038]\n",
            " [30.26000023]\n",
            " [30.34000015]\n",
            " [30.28000069]\n",
            " [30.79000092]\n",
            " [30.43000031]\n",
            " [30.73999977]\n",
            " [30.30999947]\n",
            " [30.07999992]\n",
            " [30.46999931]\n",
            " [29.57999992]\n",
            " [29.37000084]\n",
            " [29.88999939]\n",
            " [31.65999985]\n",
            " [31.06999969]\n",
            " [31.55999947]\n",
            " [31.75      ]\n",
            " [32.04999924]\n",
            " [32.45999908]\n",
            " [32.29000092]\n",
            " [32.27999878]\n",
            " [32.38000107]\n",
            " [32.97999954]\n",
            " [32.74000168]\n",
            " [33.04000092]\n",
            " [33.20000076]\n",
            " [33.61999893]\n",
            " [33.97999954]\n",
            " [33.70000076]\n",
            " [33.36999893]\n",
            " [33.90000153]\n",
            " [33.77000046]\n",
            " [34.41999817]]\n"
          ],
          "name": "stdout"
        }
      ]
    },
    {
      "cell_type": "code",
      "metadata": {
        "colab": {
          "base_uri": "https://localhost:8080/"
        },
        "id": "b7bgVHxLebEw",
        "outputId": "61d51d1c-5146-43eb-8d68-7549db97a017"
      },
      "source": [
        "prediction=model.predict(real)\n",
        "prediction=scaler.inverse_transform(prediction)\n",
        "print(prediction)"
      ],
      "execution_count": 81,
      "outputs": [
        {
          "output_type": "stream",
          "text": [
            "WARNING:tensorflow:Model was constructed with shape (None, 60, 1) for input KerasTensor(type_spec=TensorSpec(shape=(None, 60, 1), dtype=tf.float32, name='lstm_16_input'), name='lstm_16_input', description=\"created by layer 'lstm_16_input'\"), but it was called on an input with incompatible shape (None, 59, 1).\n",
            "[[32.150913]]\n"
          ],
          "name": "stdout"
        }
      ]
    }
  ]
}