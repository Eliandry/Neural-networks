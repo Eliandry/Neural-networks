{
  "nbformat": 4,
  "nbformat_minor": 0,
  "metadata": {
    "colab": {
      "name": "StylePhoto.ipynb",
      "provenance": [],
      "collapsed_sections": [],
      "authorship_tag": "ABX9TyPdDaAvhta7ygLKH9JuvzzS",
      "include_colab_link": true
    },
    "kernelspec": {
      "name": "python3",
      "display_name": "Python 3"
    }
  },
  "cells": [
    {
      "cell_type": "markdown",
      "metadata": {
        "id": "view-in-github",
        "colab_type": "text"
      },
      "source": [
        "<a href=\"https://colab.research.google.com/github/Eliandry/Neural-networks/blob/main/StylePhoto.ipynb\" target=\"_parent\"><img src=\"https://colab.research.google.com/assets/colab-badge.svg\" alt=\"Open In Colab\"/></a>"
      ]
    },
    {
      "cell_type": "code",
      "metadata": {
        "id": "r6h-wN1CrzWU"
      },
      "source": [
        "import numpy as np\r\n",
        "import matplotlib.pyplot as plt\r\n",
        "import keras\r\n",
        "from google.colab import files\r\n",
        "from io import BytesIO\r\n",
        "from PIL import Image\r\n",
        "import tensorflow as tf"
      ],
      "execution_count": 1,
      "outputs": []
    },
    {
      "cell_type": "code",
      "metadata": {
        "id": "SP8va3P8spn4"
      },
      "source": [
        "upl=files.upload()\r\n",
        "img=Image.open(BytesIO(upl['photo.jpg']))\r\n",
        "img=img.resize((224,224),Image.ANTIALIAS)\r\n",
        "img.save('photo.jpg')\r\n",
        "\r\n",
        "img_style=Image.open(BytesIO(upl['style.jpg']))\r\n",
        "img_style=img_style.resize((224,224),Image.ANTIALIAS)\r\n",
        "img_style.save('style.jpg')"
      ],
      "execution_count": null,
      "outputs": []
    },
    {
      "cell_type": "code",
      "metadata": {
        "id": "bO5kCSVKturd"
      },
      "source": [
        "\r\n",
        "plt.imshow(img)\r\n",
        "plt.subplot(1,2,2)\r\n",
        "plt.imshow(img_style)\r\n",
        "plt.show()"
      ],
      "execution_count": null,
      "outputs": []
    },
    {
      "cell_type": "code",
      "metadata": {
        "id": "X1fLqDVTuv3p"
      },
      "source": [
        "x_img=keras.applications.vgg19.preprocess_input(np.expand_dims(img,axis=0))\r\n",
        "x_style=keras.applications.vgg19.preprocess_input(np.expand_dims(img_style,axis=0))"
      ],
      "execution_count": 64,
      "outputs": []
    },
    {
      "cell_type": "code",
      "metadata": {
        "id": "E5rIydYevM3V"
      },
      "source": [
        "def deprocess_img(processed_img):\r\n",
        "  x = processed_img.copy()\r\n",
        "  if len(x.shape) == 4:\r\n",
        "    x = np.squeeze(x, 0)\r\n",
        "  assert len(x.shape) == 3, (\"Input to deprocess image must be an image of \"\r\n",
        "                             \"dimension [1, height, width, channel] or [height, width, channel]\")\r\n",
        "  if len(x.shape) != 3:\r\n",
        "    raise ValueError(\"Invalid input to deprocessing image\")\r\n",
        "  \r\n",
        "  # perform the inverse of the preprocessing step\r\n",
        "  x[:, :, 0] += 103.939\r\n",
        "  x[:, :, 1] += 116.779\r\n",
        "  x[:, :, 2] += 123.68\r\n",
        "  x = x[:, :, ::-1]\r\n",
        "\r\n",
        "  x = np.clip(x, 0, 255).astype('uint8')\r\n",
        "  return x"
      ],
      "execution_count": 65,
      "outputs": []
    },
    {
      "cell_type": "code",
      "metadata": {
        "id": "EMAXcbYOv2dh"
      },
      "source": [
        "content_layers=['block5_conv2',]\r\n",
        "\r\n",
        "style_layers=['block1_conv1',\r\n",
        "              'block2_conv1',\r\n",
        "              'block3_conv1',\r\n",
        "              'block4_conv1',\r\n",
        "              'block5_conv1',   \r\n",
        "]\r\n",
        "num_content_layers=len(content_layers)\r\n",
        "num_style_layers=len(style_layers)"
      ],
      "execution_count": 66,
      "outputs": []
    },
    {
      "cell_type": "code",
      "metadata": {
        "id": "vnBmJZqnxDTw"
      },
      "source": [
        "vgg=keras.applications.vgg19.VGG19(include_top=False,weights='imagenet')\r\n",
        "vgg.trainable=False"
      ],
      "execution_count": 67,
      "outputs": []
    },
    {
      "cell_type": "code",
      "metadata": {
        "id": "uic_5zyHxDMd"
      },
      "source": [
        "style_outputs=[vgg.get_layer(name).output for name in style_layers]\r\n",
        "content_outputs=[vgg.get_layer(name).output for name in content_layers]\r\n",
        "model_outputs=style_outputs+content_outputs\r\n",
        "\r\n",
        "print(vgg.input)\r\n",
        "for m in model_outputs:\r\n",
        "  print(m)\r\n",
        "\r\n",
        "model=keras.models.Model(vgg.input,model_outputs)\r\n",
        "print(model.summary())"
      ],
      "execution_count": null,
      "outputs": []
    },
    {
      "cell_type": "code",
      "metadata": {
        "id": "a_aMlQs_01pq"
      },
      "source": [
        "def get_feature_representations(model):\r\n",
        "\r\n",
        "  style_outputs = model(x_style)\r\n",
        "  content_outputs = model(x_img)\r\n",
        "  \r\n",
        "\r\n",
        "  style_features = [style_layer[0] for style_layer in style_outputs[:num_style_layers]]\r\n",
        "  content_features = [content_layer[0] for content_layer in content_outputs[num_style_layers:]]\r\n",
        "  return style_features, content_features\r\n",
        "\r\n",
        "def get_content_loss(base_content,target):\r\n",
        "  return tf.reduce_mean(tf.square(base_content-target))"
      ],
      "execution_count": 69,
      "outputs": []
    },
    {
      "cell_type": "code",
      "metadata": {
        "id": "OcxFQyXY1czm"
      },
      "source": [
        "def gram_matrix(input_tensor):\r\n",
        "  channels = int(input_tensor.shape[-1])\r\n",
        "  a = tf.reshape(input_tensor, [-1, channels])\r\n",
        "  n = tf.shape(a)[0]\r\n",
        "  gram = tf.matmul(a, a, transpose_a=True)\r\n",
        "  return gram / tf.cast(n, tf.float32)"
      ],
      "execution_count": 70,
      "outputs": []
    },
    {
      "cell_type": "code",
      "metadata": {
        "id": "DSUTTZP02bHg"
      },
      "source": [
        "def get_style_loss(base_style, gram_target):\r\n",
        "  gram_style = gram_matrix(base_style)\r\n",
        "  return tf.reduce_mean(tf.square(gram_style - gram_target))"
      ],
      "execution_count": 71,
      "outputs": []
    },
    {
      "cell_type": "code",
      "metadata": {
        "id": "ciUtPH2j2tGp"
      },
      "source": [
        "def compute_loss(model, loss_weights, init_image, gram_style_features, content_features):\r\n",
        "  style_weight, content_weight = loss_weights\r\n",
        "  \r\n",
        "  model_outputs = model(init_image)\r\n",
        "  \r\n",
        "  style_output_features = model_outputs[:num_style_layers]\r\n",
        "  content_output_features = model_outputs[num_style_layers:]\r\n",
        "  \r\n",
        "  style_score = 0\r\n",
        "  content_score = 0\r\n",
        "\r\n",
        "  weight_per_style_layer = 1.0 / float(num_style_layers)\r\n",
        "  for target_style, comb_style in zip(gram_style_features, style_output_features):\r\n",
        "    style_score += weight_per_style_layer * get_style_loss(comb_style[0], target_style)\r\n",
        "    \r\n",
        "  weight_per_content_layer = 1.0 / float(num_content_layers)\r\n",
        "  for target_content, comb_content in zip(content_features, content_output_features):\r\n",
        "    content_score += weight_per_content_layer* get_content_loss(comb_content[0], target_content)\r\n",
        "  \r\n",
        "  style_score *= style_weight\r\n",
        "  content_score *= content_weight\r\n",
        "\r\n",
        "  loss = style_score + content_score \r\n",
        "  return loss, style_score, content_score"
      ],
      "execution_count": 73,
      "outputs": []
    },
    {
      "cell_type": "code",
      "metadata": {
        "id": "flUEswRh3mYO",
        "colab": {
          "base_uri": "https://localhost:8080/"
        },
        "outputId": "a729e0b0-16cd-4804-bb87-cacbe9e2a26a"
      },
      "source": [
        "num_iterations=110\r\n",
        "content_weight=1e3\r\n",
        "style_weight=1e-2\r\n",
        "\r\n",
        "style_features, content_features = get_feature_representations(model)\r\n",
        "gram_style_features = [gram_matrix(style_feature) for style_feature in style_features]\r\n",
        "\r\n",
        "init_image = np.copy(x_img)\r\n",
        "init_image = tf.Variable(init_image, dtype=tf.float32)\r\n",
        "\r\n",
        "opt = tf.compat.v1.train.AdamOptimizer(learning_rate=2, beta1=0.99, epsilon=1e-1)\r\n",
        "iter_count = 1\r\n",
        "best_loss, best_img = float('inf'), None\r\n",
        "loss_weights = (style_weight, content_weight)\r\n",
        "\r\n",
        "cfg = {\r\n",
        "      'model': model,\r\n",
        "      'loss_weights': loss_weights,\r\n",
        "      'init_image': init_image,\r\n",
        "      'gram_style_features': gram_style_features,\r\n",
        "      'content_features': content_features\r\n",
        "}\r\n",
        "\r\n",
        "norm_means = np.array([103.939, 116.779, 123.68])\r\n",
        "min_vals = -norm_means\r\n",
        "max_vals = 255 - norm_means\r\n",
        "imgs = []\r\n",
        "\r\n",
        "for i in range(num_iterations):\r\n",
        "    with tf.GradientTape() as tape: \r\n",
        "       all_loss = compute_loss(**cfg)\r\n",
        "    \r\n",
        "    loss, style_score, content_score = all_loss\r\n",
        "    grads = tape.gradient(loss, init_image)\r\n",
        "\r\n",
        "    opt.apply_gradients([(grads, init_image)])\r\n",
        "    clipped = tf.clip_by_value(init_image, min_vals, max_vals)\r\n",
        "    init_image.assign(clipped)\r\n",
        "    \r\n",
        "    if loss < best_loss:\r\n",
        "      # Update best loss and best image from total loss. \r\n",
        "      best_loss = loss\r\n",
        "      best_img = deprocess_img(init_image.numpy())\r\n",
        "\r\n",
        "      # Use the .numpy() method to get the concrete numpy array\r\n",
        "      plot_img = deprocess_img(init_image.numpy())\r\n",
        "      imgs.append(plot_img)\r\n",
        "      print('Iteration: {}'.format(i))\r\n",
        "\r\n"
      ],
      "execution_count": 74,
      "outputs": [
        {
          "output_type": "stream",
          "text": [
            "Iteration: 0\n",
            "Iteration: 1\n",
            "Iteration: 2\n",
            "Iteration: 3\n",
            "Iteration: 4\n",
            "Iteration: 5\n",
            "Iteration: 6\n",
            "Iteration: 7\n",
            "Iteration: 8\n",
            "Iteration: 9\n",
            "Iteration: 10\n",
            "Iteration: 11\n",
            "Iteration: 12\n",
            "Iteration: 13\n",
            "Iteration: 14\n",
            "Iteration: 15\n",
            "Iteration: 16\n",
            "Iteration: 17\n",
            "Iteration: 18\n",
            "Iteration: 19\n",
            "Iteration: 20\n",
            "Iteration: 21\n",
            "Iteration: 22\n",
            "Iteration: 23\n",
            "Iteration: 24\n",
            "Iteration: 25\n",
            "Iteration: 26\n",
            "Iteration: 27\n",
            "Iteration: 28\n",
            "Iteration: 29\n",
            "Iteration: 30\n",
            "Iteration: 31\n",
            "Iteration: 32\n",
            "Iteration: 33\n",
            "Iteration: 34\n",
            "Iteration: 35\n",
            "Iteration: 36\n",
            "Iteration: 37\n",
            "Iteration: 38\n",
            "Iteration: 39\n",
            "Iteration: 40\n",
            "Iteration: 41\n",
            "Iteration: 42\n",
            "Iteration: 43\n",
            "Iteration: 44\n",
            "Iteration: 45\n",
            "Iteration: 46\n",
            "Iteration: 47\n",
            "Iteration: 48\n",
            "Iteration: 49\n",
            "Iteration: 50\n",
            "Iteration: 51\n",
            "Iteration: 52\n",
            "Iteration: 53\n",
            "Iteration: 54\n",
            "Iteration: 55\n",
            "Iteration: 56\n",
            "Iteration: 57\n",
            "Iteration: 58\n",
            "Iteration: 59\n",
            "Iteration: 60\n",
            "Iteration: 61\n",
            "Iteration: 62\n",
            "Iteration: 63\n",
            "Iteration: 64\n",
            "Iteration: 65\n",
            "Iteration: 66\n",
            "Iteration: 67\n",
            "Iteration: 68\n",
            "Iteration: 69\n",
            "Iteration: 70\n",
            "Iteration: 71\n",
            "Iteration: 72\n",
            "Iteration: 73\n",
            "Iteration: 74\n",
            "Iteration: 75\n",
            "Iteration: 76\n",
            "Iteration: 77\n",
            "Iteration: 78\n",
            "Iteration: 79\n",
            "Iteration: 80\n",
            "Iteration: 81\n",
            "Iteration: 82\n",
            "Iteration: 83\n",
            "Iteration: 84\n",
            "Iteration: 85\n",
            "Iteration: 86\n",
            "Iteration: 87\n",
            "Iteration: 88\n",
            "Iteration: 89\n",
            "Iteration: 90\n",
            "Iteration: 91\n",
            "Iteration: 92\n",
            "Iteration: 93\n",
            "Iteration: 94\n",
            "Iteration: 95\n",
            "Iteration: 96\n",
            "Iteration: 97\n",
            "Iteration: 98\n",
            "Iteration: 99\n",
            "Iteration: 100\n",
            "Iteration: 101\n",
            "Iteration: 102\n",
            "Iteration: 103\n",
            "Iteration: 104\n",
            "Iteration: 105\n",
            "Iteration: 106\n",
            "Iteration: 107\n",
            "Iteration: 108\n",
            "Iteration: 109\n"
          ],
          "name": "stdout"
        }
      ]
    },
    {
      "cell_type": "code",
      "metadata": {
        "id": "SDtWDVkc7f3-"
      },
      "source": [
        "plt.imshow(best_img)\r\n",
        "print(best_loss)"
      ],
      "execution_count": null,
      "outputs": []
    },
    {
      "cell_type": "code",
      "metadata": {
        "id": "wIJWyTBO7iDC"
      },
      "source": [
        "image = Image.fromarray(best_img.astype('uint8'), 'RGB')\r\n",
        "image.save(\"result.jpg\")\r\n",
        "files.download(\"result.jpg\")"
      ],
      "execution_count": null,
      "outputs": []
    }
  ]
}