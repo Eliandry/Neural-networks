{
  "nbformat": 4,
  "nbformat_minor": 0,
  "metadata": {
    "colab": {
      "name": "LSTM.ipynb",
      "provenance": [],
      "authorship_tag": "ABX9TyM71EQng+Cm/yZsiwyyQH3H",
      "include_colab_link": true
    },
    "kernelspec": {
      "name": "python3",
      "display_name": "Python 3"
    }
  },
  "cells": [
    {
      "cell_type": "markdown",
      "metadata": {
        "id": "view-in-github",
        "colab_type": "text"
      },
      "source": [
        "<a href=\"https://colab.research.google.com/github/Eliandry/Neural-networks/blob/main/LSTM.ipynb\" target=\"_parent\"><img src=\"https://colab.research.google.com/assets/colab-badge.svg\" alt=\"Open In Colab\"/></a>"
      ]
    },
    {
      "cell_type": "code",
      "metadata": {
        "id": "8kzdiWnNZrL3"
      },
      "source": [
        "import os\n",
        "os.environ['TF_CPP_MIN_LOG_LEVEL'] = '2'\n",
        "import re\n",
        "import numpy as np\n",
        "from keras.layers import Dense,LSTM,Input,Dropout,Embedding\n",
        "from keras.models import Sequential\n",
        "from keras.optimizers import Adam\n",
        "from keras.preprocessing.text import Tokenizer, text_to_word_sequence\n",
        "from keras.preprocessing.sequence import pad_sequences"
      ],
      "execution_count": 1,
      "outputs": []
    },
    {
      "cell_type": "code",
      "metadata": {
        "colab": {
          "base_uri": "https://localhost:8080/"
        },
        "id": "4MSFD3qmZ4sA",
        "outputId": "e33167fd-1d67-4007-daf7-e6388bd1cfc1"
      },
      "source": [
        "with open('/content/positive','r') as f:\n",
        "  positive=f.readlines()\n",
        "  positive[0]=positive[0].replace('\\ufeff','')\n",
        "\n",
        "with open('/content/negative','r') as f:\n",
        "  neg=f.readlines()\n",
        "  neg[0]=neg[0].replace('\\ufeff','')\n",
        "\n",
        "texts=positive+neg\n",
        "\n",
        "count_pos=len(positive)\n",
        "count_neg=len(neg)\n",
        "total_ln=count_neg+count_pos\n",
        "print(total_ln)"
      ],
      "execution_count": 2,
      "outputs": [
        {
          "output_type": "stream",
          "text": [
            "189\n"
          ],
          "name": "stdout"
        }
      ]
    },
    {
      "cell_type": "code",
      "metadata": {
        "id": "4dsulJR5is44"
      },
      "source": [
        "max=800\n",
        "tokenizer = Tokenizer(num_words=max, filters='!–\"—#$%&amp;()*+,-./:;<=>?@[\\\\]^_`{|}~\\t\\n\\r«»', lower=True, split=' ', char_level=False)\n",
        "tokenizer.fit_on_texts(texts)\n",
        "\n",
        "dist=list(tokenizer.word_counts.items())"
      ],
      "execution_count": 3,
      "outputs": []
    },
    {
      "cell_type": "code",
      "metadata": {
        "id": "elnFG8VIisa2",
        "colab": {
          "base_uri": "https://localhost:8080/"
        },
        "outputId": "ce0856ca-1d91-42d9-d6c6-253aba7b5729"
      },
      "source": [
        "max_text_len=10\n",
        "data=tokenizer.texts_to_sequences(texts)\n",
        "data_pad=pad_sequences(data,maxlen=max_text_len)\n",
        "print(data_pad)"
      ],
      "execution_count": 4,
      "outputs": [
        {
          "output_type": "stream",
          "text": [
            "[[  1 214  27 ...  37  13 216]\n",
            " [ 46  71   2 ... 218 219 220]\n",
            " [ 38 222  24 ... 225 226 116]\n",
            " ...\n",
            " [  0   0   0 ... 104  54  58]\n",
            " [  0   0   0 ... 210  34   1]\n",
            " [  0   0   0 ...  84  47 211]]\n"
          ],
          "name": "stdout"
        }
      ]
    },
    {
      "cell_type": "code",
      "metadata": {
        "colab": {
          "base_uri": "https://localhost:8080/"
        },
        "id": "HW5W_n06M0ux",
        "outputId": "9a550a80-dc7e-495b-c074-dbe998b1f747"
      },
      "source": [
        "x=data_pad\n",
        "y=np.array([[1,0]]*count_pos+[[0,1]]*count_neg)\n",
        "print(x.shape,y.shape)"
      ],
      "execution_count": 5,
      "outputs": [
        {
          "output_type": "stream",
          "text": [
            "(189, 10) (189, 2)\n"
          ],
          "name": "stdout"
        }
      ]
    },
    {
      "cell_type": "code",
      "metadata": {
        "id": "7o5Ycg7lPsb2"
      },
      "source": [
        "indeces=np.random.choice(x.shape[0],size=x.shape[0],replace=False)\n",
        "X=x[indeces]\n",
        "Y=y[indeces]\n",
        "print(indeces)"
      ],
      "execution_count": null,
      "outputs": []
    },
    {
      "cell_type": "code",
      "metadata": {
        "colab": {
          "base_uri": "https://localhost:8080/"
        },
        "id": "KFMmU9arQQiJ",
        "outputId": "37c29ff4-339a-404c-d3de-2ab832e9e5fe"
      },
      "source": [
        "model=Sequential()\n",
        "model.add(Embedding(max,128,input_length=max_text_len))\n",
        "model.add(LSTM(128,return_sequences=True))\n",
        "model.add(LSTM(64))\n",
        "model.add(Dense(2,activation='softmax'))\n",
        "model.summary()"
      ],
      "execution_count": 9,
      "outputs": [
        {
          "output_type": "stream",
          "text": [
            "Model: \"sequential\"\n",
            "_________________________________________________________________\n",
            "Layer (type)                 Output Shape              Param #   \n",
            "=================================================================\n",
            "embedding (Embedding)        (None, 10, 128)           102400    \n",
            "_________________________________________________________________\n",
            "lstm (LSTM)                  (None, 10, 128)           131584    \n",
            "_________________________________________________________________\n",
            "lstm_1 (LSTM)                (None, 64)                49408     \n",
            "_________________________________________________________________\n",
            "dense (Dense)                (None, 2)                 130       \n",
            "=================================================================\n",
            "Total params: 283,522\n",
            "Trainable params: 283,522\n",
            "Non-trainable params: 0\n",
            "_________________________________________________________________\n"
          ],
          "name": "stdout"
        }
      ]
    },
    {
      "cell_type": "code",
      "metadata": {
        "id": "SSqE_Wk8RY2F"
      },
      "source": [
        "model.compile(loss='categorical_crossentropy', metrics=['accuracy'], optimizer=Adam(0.0001))\n",
        "history = model.fit(X, Y, batch_size=32, epochs=70)"
      ],
      "execution_count": null,
      "outputs": []
    },
    {
      "cell_type": "code",
      "metadata": {
        "id": "Qo1Cq_UURgvq",
        "outputId": "1fc211ce-0b15-41bd-d0b5-21ccacb06215",
        "colab": {
          "base_uri": "https://localhost:8080/"
        }
      },
      "source": [
        "reverse_word=dict(map(reversed,tokenizer.word_index.items()))\n",
        "def seq_to_text(list_ind):\n",
        "  words = [reverse_word.get(letter) for letter in list_ind]\n",
        "  return(words)\n",
        "\n",
        "\n",
        "t = \"за все нужно платить\".lower()\n",
        "data = tokenizer.texts_to_sequences([t])\n",
        "data_pad = pad_sequences(data, maxlen=max_text_len)\n",
        "print(seq_to_text(data[0]) )\n",
        "\n",
        "res = model.predict(data_pad)\n",
        "print(res, np.argmax(res), sep='\\n')\n"
      ],
      "execution_count": 38,
      "outputs": [
        {
          "output_type": "stream",
          "text": [
            "['за', 'все', 'нужно', 'платить']\n",
            "[[0.00113778 0.99886227]]\n",
            "1\n"
          ],
          "name": "stdout"
        }
      ]
    }
  ]
}