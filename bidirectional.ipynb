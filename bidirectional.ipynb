{
  "nbformat": 4,
  "nbformat_minor": 0,
  "metadata": {
    "colab": {
      "name": "bidirectional.ipynb",
      "provenance": [],
      "authorship_tag": "ABX9TyPCHTuNzqpfF8Xvaqf6rO51",
      "include_colab_link": true
    },
    "kernelspec": {
      "name": "python3",
      "display_name": "Python 3"
    },
    "language_info": {
      "name": "python"
    }
  },
  "cells": [
    {
      "cell_type": "markdown",
      "metadata": {
        "id": "view-in-github",
        "colab_type": "text"
      },
      "source": [
        "<a href=\"https://colab.research.google.com/github/Eliandry/Neural-networks/blob/main/bidirectional.ipynb\" target=\"_parent\"><img src=\"https://colab.research.google.com/assets/colab-badge.svg\" alt=\"Open In Colab\"/></a>"
      ]
    },
    {
      "cell_type": "code",
      "metadata": {
        "id": "3yBAnkLgF73F"
      },
      "source": [
        "import os\n",
        "import numpy as np\n",
        "import matplotlib.pyplot as plt\n",
        "from keras.layers import Dense,GRU,Input, Dropout,Bidirectional\n",
        "from keras.models import Sequential\n",
        "from keras.optimizers import Adam\n"
      ],
      "execution_count": 2,
      "outputs": []
    },
    {
      "cell_type": "code",
      "metadata": {
        "colab": {
          "base_uri": "https://localhost:8080/",
          "height": 265
        },
        "id": "FhO-nACOGwJT",
        "outputId": "dc9adb7e-733d-46f9-a76a-a7c3bfcbec13"
      },
      "source": [
        "N=10000\n",
        "data=np.array([np.sin(x/20) for x in range(N)])+ 0.1*np.random.randn(N)\n",
        "plt.plot(data[:100])\n",
        "plt.show()"
      ],
      "execution_count": 45,
      "outputs": [
        {
          "output_type": "display_data",
          "data": {
            "image/png": "[encoded data removed]",
            "text/plain": [
              "<Figure size 432x288 with 1 Axes>"
            ]
          },
          "metadata": {
            "tags": [],
            "needs_background": "light"
          }
        }
      ]
    },
    {
      "cell_type": "code",
      "metadata": {
        "colab": {
          "base_uri": "https://localhost:8080/"
        },
        "id": "7ZHZ59k_H4BU",
        "outputId": "535b61cc-e182-4d48-f627-84da5ed5ce23"
      },
      "source": [
        "off=3\n",
        "len=off*2+1\n",
        "X=np.array([ np.diag(np.hstack((data[i:i+off], data[i+off+1:i+len]))) for i in range(N-len)])\n",
        "Y = data[off:N-off-1]\n",
        "print(X.shape, Y.shape, sep='\\n')"
      ],
      "execution_count": 39,
      "outputs": [
        {
          "output_type": "stream",
          "text": [
            "(9993, 6, 6)\n",
            "(9993,)\n"
          ],
          "name": "stdout"
        }
      ]
    },
    {
      "cell_type": "code",
      "metadata": {
        "colab": {
          "base_uri": "https://localhost:8080/"
        },
        "id": "wk7qmBfAI2ef",
        "outputId": "3dafb2f3-45fd-4f2f-9bbe-2ca87651762d"
      },
      "source": [
        "model=Sequential()\n",
        "model.add(Input((len-1,len-1)))\n",
        "model.add(Bidirectional(GRU(2)))\n",
        "model.add(Dense(1,activation='linear'))\n",
        "model.summary()"
      ],
      "execution_count": 49,
      "outputs": [
        {
          "output_type": "stream",
          "text": [
            "Model: \"sequential_1\"\n",
            "_________________________________________________________________\n",
            "Layer (type)                 Output Shape              Param #   \n",
            "=================================================================\n",
            "bidirectional_1 (Bidirection (None, 4)                 120       \n",
            "_________________________________________________________________\n",
            "dense_1 (Dense)              (None, 1)                 5         \n",
            "=================================================================\n",
            "Total params: 125\n",
            "Trainable params: 125\n",
            "Non-trainable params: 0\n",
            "_________________________________________________________________\n"
          ],
          "name": "stdout"
        }
      ]
    },
    {
      "cell_type": "code",
      "metadata": {
        "colab": {
          "base_uri": "https://localhost:8080/"
        },
        "id": "tbaJjjdmJft5",
        "outputId": "f1baa062-6087-4e6b-907d-06838b098fa3"
      },
      "source": [
        "model.compile(loss='mean_squared_error',optimizer=Adam(0.01))\n",
        "history=model.fit(X,Y,batch_size=32,epochs=30)"
      ],
      "execution_count": 53,
      "outputs": [
        {
          "output_type": "stream",
          "text": [
            "Epoch 1/30\n",
            "313/313 [==============================] - 5s 5ms/step - loss: 0.0122\n",
            "Epoch 2/30\n",
            "313/313 [==============================] - 2s 5ms/step - loss: 0.0121\n",
            "Epoch 3/30\n",
            "313/313 [==============================] - 2s 5ms/step - loss: 0.0122\n",
            "Epoch 4/30\n",
            "313/313 [==============================] - 2s 5ms/step - loss: 0.0119\n",
            "Epoch 5/30\n",
            "313/313 [==============================] - 2s 5ms/step - loss: 0.0121\n",
            "Epoch 6/30\n",
            "313/313 [==============================] - 2s 5ms/step - loss: 0.0120\n",
            "Epoch 7/30\n",
            "313/313 [==============================] - 2s 5ms/step - loss: 0.0120\n",
            "Epoch 8/30\n",
            "313/313 [==============================] - 2s 5ms/step - loss: 0.0119\n",
            "Epoch 9/30\n",
            "313/313 [==============================] - 2s 5ms/step - loss: 0.0119\n",
            "Epoch 10/30\n",
            "313/313 [==============================] - 2s 5ms/step - loss: 0.0118\n",
            "Epoch 11/30\n",
            "313/313 [==============================] - 2s 5ms/step - loss: 0.0120\n",
            "Epoch 12/30\n",
            "313/313 [==============================] - 2s 5ms/step - loss: 0.0118\n",
            "Epoch 13/30\n",
            "313/313 [==============================] - 2s 5ms/step - loss: 0.0119\n",
            "Epoch 14/30\n",
            "313/313 [==============================] - 2s 5ms/step - loss: 0.0119\n",
            "Epoch 15/30\n",
            "313/313 [==============================] - 2s 5ms/step - loss: 0.0122\n",
            "Epoch 16/30\n",
            "313/313 [==============================] - 2s 5ms/step - loss: 0.0119\n",
            "Epoch 17/30\n",
            "313/313 [==============================] - 2s 5ms/step - loss: 0.0121\n",
            "Epoch 18/30\n",
            "313/313 [==============================] - 2s 5ms/step - loss: 0.0117\n",
            "Epoch 19/30\n",
            "313/313 [==============================] - 2s 5ms/step - loss: 0.0117\n",
            "Epoch 20/30\n",
            "313/313 [==============================] - 2s 5ms/step - loss: 0.0117\n",
            "Epoch 21/30\n",
            "313/313 [==============================] - 2s 5ms/step - loss: 0.0123\n",
            "Epoch 22/30\n",
            "313/313 [==============================] - 2s 5ms/step - loss: 0.0120\n",
            "Epoch 23/30\n",
            "313/313 [==============================] - 2s 5ms/step - loss: 0.0118\n",
            "Epoch 24/30\n",
            "313/313 [==============================] - 2s 5ms/step - loss: 0.0120\n",
            "Epoch 25/30\n",
            "313/313 [==============================] - 2s 5ms/step - loss: 0.0122\n",
            "Epoch 26/30\n",
            "313/313 [==============================] - 2s 5ms/step - loss: 0.0123\n",
            "Epoch 27/30\n",
            "313/313 [==============================] - 2s 5ms/step - loss: 0.0121\n",
            "Epoch 28/30\n",
            "313/313 [==============================] - 2s 5ms/step - loss: 0.0121\n",
            "Epoch 29/30\n",
            "313/313 [==============================] - 2s 5ms/step - loss: 0.0118\n",
            "Epoch 30/30\n",
            "313/313 [==============================] - 2s 5ms/step - loss: 0.0119\n"
          ],
          "name": "stdout"
        }
      ]
    },
    {
      "cell_type": "code",
      "metadata": {
        "colab": {
          "base_uri": "https://localhost:8080/",
          "height": 282
        },
        "id": "7pKkPt07J-w7",
        "outputId": "c3f94f01-e3a2-4ece-dfd2-dc19c483167b"
      },
      "source": [
        "M = 200\n",
        "XX = np.zeros(M)\n",
        "XX[:off] = data[:off]\n",
        "for i in range(M-off-1):\n",
        "  x = np.diag( np.hstack( (XX[i:i+off], data[i+off+1:i+len])) )\n",
        "  x = np.expand_dims(x, axis=0)\n",
        "  y = model.predict(x)\n",
        "  XX[i+off] = y\n",
        "\n",
        "plt.plot(XX[:M])\n",
        "plt.plot(data[:M])"
      ],
      "execution_count": 54,
      "outputs": [
        {
          "output_type": "execute_result",
          "data": {
            "text/plain": [
              "[<matplotlib.lines.Line2D at 0x7f2356555710>]"
            ]
          },
          "metadata": {
            "tags": []
          },
          "execution_count": 54
        },
        {
          "output_type": "display_data",
          "data": {
            "image/png": "[encoded data removed]",
            "text/plain": [
              "<Figure size 432x288 with 1 Axes>"
            ]
          },
          "metadata": {
            "tags": [],
            "needs_background": "light"
          }
        }
      ]
    }
  ]
}